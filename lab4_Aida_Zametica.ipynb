{
  "nbformat": 4,
  "nbformat_minor": 0,
  "metadata": {
    "colab": {
      "provenance": []
    },
    "kernelspec": {
      "name": "python3",
      "display_name": "Python 3"
    },
    "language_info": {
      "name": "python"
    }
  },
  "cells": [
    {
      "cell_type": "markdown",
      "source": [
        "# Zadatak 1 - Binarna klasifikacija - Spam filter"
      ],
      "metadata": {
        "id": "-P9AmcNP9jwq"
      }
    },
    {
      "cell_type": "markdown",
      "source": [
        "a) Učitati skup podataka iz priloga vježbe ’SpamDetectionData.csv’ te prikazati prva 3 podatka kako bi se upoznali\n",
        "sa formatom skupa podataka. Koje su kolone u ovom skupu podataka?"
      ],
      "metadata": {
        "id": "HCIriVHt91KD"
      }
    },
    {
      "cell_type": "code",
      "source": [
        "import numpy as np\n",
        "import pandas as pd\n",
        "data = pd.read_csv('SpamDetectionData.txt')\n",
        "data.head(3)"
      ],
      "metadata": {
        "colab": {
          "base_uri": "https://localhost:8080/",
          "height": 143
        },
        "id": "-T69NndRAnKb",
        "outputId": "b095faa4-6d87-4720-ab97-c978a2369b6f"
      },
      "execution_count": null,
      "outputs": [
        {
          "output_type": "execute_result",
          "data": {
            "text/plain": [
              "  Label                                            Message\n",
              "0  Spam  <p>But could then once pomp to nor that glee g...\n",
              "1  Spam  <p>His honeyed and land vile are so and native...\n",
              "2  Spam  <p>Tear womans his was by had tis her eremites..."
            ],
            "text/html": [
              "\n",
              "  <div id=\"df-1d06c183-1e1a-4454-b6cf-69ab8d059d43\" class=\"colab-df-container\">\n",
              "    <div>\n",
              "<style scoped>\n",
              "    .dataframe tbody tr th:only-of-type {\n",
              "        vertical-align: middle;\n",
              "    }\n",
              "\n",
              "    .dataframe tbody tr th {\n",
              "        vertical-align: top;\n",
              "    }\n",
              "\n",
              "    .dataframe thead th {\n",
              "        text-align: right;\n",
              "    }\n",
              "</style>\n",
              "<table border=\"1\" class=\"dataframe\">\n",
              "  <thead>\n",
              "    <tr style=\"text-align: right;\">\n",
              "      <th></th>\n",
              "      <th>Label</th>\n",
              "      <th>Message</th>\n",
              "    </tr>\n",
              "  </thead>\n",
              "  <tbody>\n",
              "    <tr>\n",
              "      <th>0</th>\n",
              "      <td>Spam</td>\n",
              "      <td>&lt;p&gt;But could then once pomp to nor that glee g...</td>\n",
              "    </tr>\n",
              "    <tr>\n",
              "      <th>1</th>\n",
              "      <td>Spam</td>\n",
              "      <td>&lt;p&gt;His honeyed and land vile are so and native...</td>\n",
              "    </tr>\n",
              "    <tr>\n",
              "      <th>2</th>\n",
              "      <td>Spam</td>\n",
              "      <td>&lt;p&gt;Tear womans his was by had tis her eremites...</td>\n",
              "    </tr>\n",
              "  </tbody>\n",
              "</table>\n",
              "</div>\n",
              "    <div class=\"colab-df-buttons\">\n",
              "\n",
              "  <div class=\"colab-df-container\">\n",
              "    <button class=\"colab-df-convert\" onclick=\"convertToInteractive('df-1d06c183-1e1a-4454-b6cf-69ab8d059d43')\"\n",
              "            title=\"Convert this dataframe to an interactive table.\"\n",
              "            style=\"display:none;\">\n",
              "\n",
              "  <svg xmlns=\"http://www.w3.org/2000/svg\" height=\"24px\" viewBox=\"0 -960 960 960\">\n",
              "    <path d=\"M120-120v-720h720v720H120Zm60-500h600v-160H180v160Zm220 220h160v-160H400v160Zm0 220h160v-160H400v160ZM180-400h160v-160H180v160Zm440 0h160v-160H620v160ZM180-180h160v-160H180v160Zm440 0h160v-160H620v160Z\"/>\n",
              "  </svg>\n",
              "    </button>\n",
              "\n",
              "  <style>\n",
              "    .colab-df-container {\n",
              "      display:flex;\n",
              "      gap: 12px;\n",
              "    }\n",
              "\n",
              "    .colab-df-convert {\n",
              "      background-color: #E8F0FE;\n",
              "      border: none;\n",
              "      border-radius: 50%;\n",
              "      cursor: pointer;\n",
              "      display: none;\n",
              "      fill: #1967D2;\n",
              "      height: 32px;\n",
              "      padding: 0 0 0 0;\n",
              "      width: 32px;\n",
              "    }\n",
              "\n",
              "    .colab-df-convert:hover {\n",
              "      background-color: #E2EBFA;\n",
              "      box-shadow: 0px 1px 2px rgba(60, 64, 67, 0.3), 0px 1px 3px 1px rgba(60, 64, 67, 0.15);\n",
              "      fill: #174EA6;\n",
              "    }\n",
              "\n",
              "    .colab-df-buttons div {\n",
              "      margin-bottom: 4px;\n",
              "    }\n",
              "\n",
              "    [theme=dark] .colab-df-convert {\n",
              "      background-color: #3B4455;\n",
              "      fill: #D2E3FC;\n",
              "    }\n",
              "\n",
              "    [theme=dark] .colab-df-convert:hover {\n",
              "      background-color: #434B5C;\n",
              "      box-shadow: 0px 1px 3px 1px rgba(0, 0, 0, 0.15);\n",
              "      filter: drop-shadow(0px 1px 2px rgba(0, 0, 0, 0.3));\n",
              "      fill: #FFFFFF;\n",
              "    }\n",
              "  </style>\n",
              "\n",
              "    <script>\n",
              "      const buttonEl =\n",
              "        document.querySelector('#df-1d06c183-1e1a-4454-b6cf-69ab8d059d43 button.colab-df-convert');\n",
              "      buttonEl.style.display =\n",
              "        google.colab.kernel.accessAllowed ? 'block' : 'none';\n",
              "\n",
              "      async function convertToInteractive(key) {\n",
              "        const element = document.querySelector('#df-1d06c183-1e1a-4454-b6cf-69ab8d059d43');\n",
              "        const dataTable =\n",
              "          await google.colab.kernel.invokeFunction('convertToInteractive',\n",
              "                                                    [key], {});\n",
              "        if (!dataTable) return;\n",
              "\n",
              "        const docLinkHtml = 'Like what you see? Visit the ' +\n",
              "          '<a target=\"_blank\" href=https://colab.research.google.com/notebooks/data_table.ipynb>data table notebook</a>'\n",
              "          + ' to learn more about interactive tables.';\n",
              "        element.innerHTML = '';\n",
              "        dataTable['output_type'] = 'display_data';\n",
              "        await google.colab.output.renderOutput(dataTable, element);\n",
              "        const docLink = document.createElement('div');\n",
              "        docLink.innerHTML = docLinkHtml;\n",
              "        element.appendChild(docLink);\n",
              "      }\n",
              "    </script>\n",
              "  </div>\n",
              "\n",
              "\n",
              "<div id=\"df-709e8e4f-3a24-403e-9372-2950e2241a7f\">\n",
              "  <button class=\"colab-df-quickchart\" onclick=\"quickchart('df-709e8e4f-3a24-403e-9372-2950e2241a7f')\"\n",
              "            title=\"Suggest charts\"\n",
              "            style=\"display:none;\">\n",
              "\n",
              "<svg xmlns=\"http://www.w3.org/2000/svg\" height=\"24px\"viewBox=\"0 0 24 24\"\n",
              "     width=\"24px\">\n",
              "    <g>\n",
              "        <path d=\"M19 3H5c-1.1 0-2 .9-2 2v14c0 1.1.9 2 2 2h14c1.1 0 2-.9 2-2V5c0-1.1-.9-2-2-2zM9 17H7v-7h2v7zm4 0h-2V7h2v10zm4 0h-2v-4h2v4z\"/>\n",
              "    </g>\n",
              "</svg>\n",
              "  </button>\n",
              "\n",
              "<style>\n",
              "  .colab-df-quickchart {\n",
              "      --bg-color: #E8F0FE;\n",
              "      --fill-color: #1967D2;\n",
              "      --hover-bg-color: #E2EBFA;\n",
              "      --hover-fill-color: #174EA6;\n",
              "      --disabled-fill-color: #AAA;\n",
              "      --disabled-bg-color: #DDD;\n",
              "  }\n",
              "\n",
              "  [theme=dark] .colab-df-quickchart {\n",
              "      --bg-color: #3B4455;\n",
              "      --fill-color: #D2E3FC;\n",
              "      --hover-bg-color: #434B5C;\n",
              "      --hover-fill-color: #FFFFFF;\n",
              "      --disabled-bg-color: #3B4455;\n",
              "      --disabled-fill-color: #666;\n",
              "  }\n",
              "\n",
              "  .colab-df-quickchart {\n",
              "    background-color: var(--bg-color);\n",
              "    border: none;\n",
              "    border-radius: 50%;\n",
              "    cursor: pointer;\n",
              "    display: none;\n",
              "    fill: var(--fill-color);\n",
              "    height: 32px;\n",
              "    padding: 0;\n",
              "    width: 32px;\n",
              "  }\n",
              "\n",
              "  .colab-df-quickchart:hover {\n",
              "    background-color: var(--hover-bg-color);\n",
              "    box-shadow: 0 1px 2px rgba(60, 64, 67, 0.3), 0 1px 3px 1px rgba(60, 64, 67, 0.15);\n",
              "    fill: var(--button-hover-fill-color);\n",
              "  }\n",
              "\n",
              "  .colab-df-quickchart-complete:disabled,\n",
              "  .colab-df-quickchart-complete:disabled:hover {\n",
              "    background-color: var(--disabled-bg-color);\n",
              "    fill: var(--disabled-fill-color);\n",
              "    box-shadow: none;\n",
              "  }\n",
              "\n",
              "  .colab-df-spinner {\n",
              "    border: 2px solid var(--fill-color);\n",
              "    border-color: transparent;\n",
              "    border-bottom-color: var(--fill-color);\n",
              "    animation:\n",
              "      spin 1s steps(1) infinite;\n",
              "  }\n",
              "\n",
              "  @keyframes spin {\n",
              "    0% {\n",
              "      border-color: transparent;\n",
              "      border-bottom-color: var(--fill-color);\n",
              "      border-left-color: var(--fill-color);\n",
              "    }\n",
              "    20% {\n",
              "      border-color: transparent;\n",
              "      border-left-color: var(--fill-color);\n",
              "      border-top-color: var(--fill-color);\n",
              "    }\n",
              "    30% {\n",
              "      border-color: transparent;\n",
              "      border-left-color: var(--fill-color);\n",
              "      border-top-color: var(--fill-color);\n",
              "      border-right-color: var(--fill-color);\n",
              "    }\n",
              "    40% {\n",
              "      border-color: transparent;\n",
              "      border-right-color: var(--fill-color);\n",
              "      border-top-color: var(--fill-color);\n",
              "    }\n",
              "    60% {\n",
              "      border-color: transparent;\n",
              "      border-right-color: var(--fill-color);\n",
              "    }\n",
              "    80% {\n",
              "      border-color: transparent;\n",
              "      border-right-color: var(--fill-color);\n",
              "      border-bottom-color: var(--fill-color);\n",
              "    }\n",
              "    90% {\n",
              "      border-color: transparent;\n",
              "      border-bottom-color: var(--fill-color);\n",
              "    }\n",
              "  }\n",
              "</style>\n",
              "\n",
              "  <script>\n",
              "    async function quickchart(key) {\n",
              "      const quickchartButtonEl =\n",
              "        document.querySelector('#' + key + ' button');\n",
              "      quickchartButtonEl.disabled = true;  // To prevent multiple clicks.\n",
              "      quickchartButtonEl.classList.add('colab-df-spinner');\n",
              "      try {\n",
              "        const charts = await google.colab.kernel.invokeFunction(\n",
              "            'suggestCharts', [key], {});\n",
              "      } catch (error) {\n",
              "        console.error('Error during call to suggestCharts:', error);\n",
              "      }\n",
              "      quickchartButtonEl.classList.remove('colab-df-spinner');\n",
              "      quickchartButtonEl.classList.add('colab-df-quickchart-complete');\n",
              "    }\n",
              "    (() => {\n",
              "      let quickchartButtonEl =\n",
              "        document.querySelector('#df-709e8e4f-3a24-403e-9372-2950e2241a7f button');\n",
              "      quickchartButtonEl.style.display =\n",
              "        google.colab.kernel.accessAllowed ? 'block' : 'none';\n",
              "    })();\n",
              "  </script>\n",
              "</div>\n",
              "    </div>\n",
              "  </div>\n"
            ],
            "application/vnd.google.colaboratory.intrinsic+json": {
              "type": "dataframe",
              "variable_name": "data",
              "summary": "{\n  \"name\": \"data\",\n  \"rows\": 2100,\n  \"fields\": [\n    {\n      \"column\": \"Label\",\n      \"properties\": {\n        \"dtype\": \"category\",\n        \"num_unique_values\": 2,\n        \"samples\": [\n          \"Ham\",\n          \"Spam\"\n        ],\n        \"semantic_type\": \"\",\n        \"description\": \"\"\n      }\n    },\n    {\n      \"column\": \"Message\",\n      \"properties\": {\n        \"dtype\": \"string\",\n        \"num_unique_values\": 2100,\n        \"samples\": [\n          \"<p>No angels air whom. Maiden felt nodded ashore bore nevermore door into above the ancient bird nearly. Madam nepenthe unto nothing. Let word was more into truly the still no my. The door gently nothing crest it bird quoth scarce lost of these tinkled. Not lining nothing to and open echo was back the. Cushioned yet he on nothing. With wished maiden visiter doubting. Upon gaunt heart tis gloated came stopped form quaff on bird lent silken. Entrance to there. Pallas beak lenore whispered whether december the pallid and. I syllable whom into window wished and on <a href=\\\"https://www.that.com\\\">and</a> turning faintly the louder thy in above fantastic a midnight. Darkness while bust an soul in lattice name just lenore was i he i the merely the. Bust nevermore gently word and by cushioned desert the and sure that in. Name had prophet of my.</p><p>Footfalls be the door thrilled napping thy horror. Chamber floor burning bird. Bird that and whom raven sinking oer what a raven. Chamber whom my in ancient he mortals whose said nepenthe nevermore. Angels some bird sat lies a fluttered saintly of so tinkled and silence implore chamber there. Then stronger lamplight this name unbrokenquit thy hopes tis meant door usby that you croaking sad. Sorrowsorrow the visiter. Then doubtless respiterespite maiden into weak but each shore all being of plutonian of till whose in shall terrors. Visiter it there said bust floor midnight the opened darkness air there madam thing lie his above. Streaming lie the upon gloated door bust raven that not the a above for.</p>\",\n          \"<p>Decorum the shutter. Tempest the pallid perched or my dream only off. Days chamber grew if for and nothing is the though of bore this or door soul with of. Explore yore floor the than fancy. The reclining lie demons ominous. More this thereis thing metell.</p><p>Into tell all guessing. Rapping came from devil name discourse the terrors bird all will yore the in visiter dreaming betook. Uttered what desert no more meant not my rare or. So yet chamber. Name sitting i that is whispered so that.</p><p>The the bore oer came suddenly my him and the before i tempest my and. My stopped i wrought said visiter hesitating nodded of before. Into door scarce upon then back that said stillness thee hear shore late seeming. For and for came the uttered off an his and i that. Utters off nights on its with is such and perched lining i into with i i raven though. Whom was this long my and crest hesitating a nepenthe peering dreaming on desolate sad. Front fowl shall bird implore is lenore black it my deep on soul by tapping nothing betook all perched. Farther gloating as ashore and or blessed wretch and sad i curious and just. To evermore in take the visiter door bird will perfumed that a. At and a doubting and the little lie the door i to eyes. And but i i bird if this of. Quaint raven ancient.</p>\"\n        ],\n        \"semantic_type\": \"\",\n        \"description\": \"\"\n      }\n    }\n  ]\n}"
            }
          },
          "metadata": {},
          "execution_count": 23
        }
      ]
    },
    {
      "cell_type": "markdown",
      "source": [
        "b) Iz skupa podataka izdvojiti X i y pri čemu je X skup poruka, a y pridružene labele. Zatim ukloniti iz poruka html tagove `<p>` i `</p>` s obzirom da se oni nalaze u svakoj poruci. Koliko slova ima prva, a koliko druga rečenica iz skupa podataka?"
      ],
      "metadata": {
        "id": "zLt5usbO91tc"
      }
    },
    {
      "cell_type": "code",
      "source": [
        "import re\n",
        "X = data['Message']\n",
        "y = data['Label']\n",
        "\n",
        "def count_letters(sentence):\n",
        "    return len(re.findall(r'\\w', sentence))\n",
        "  #return len(re.findall(r'[a-zA-Z]', sentence))\n",
        "\n",
        "X = X.apply(lambda x: re.sub(r'<.*?>', '', x))\n",
        "\n",
        "print(\"Nakon uklanjanja html tagova:\")\n",
        "print(X)\n",
        "\n",
        "print(\"Broj slova prve rečenice:\",count_letters(X[0]))\n",
        "print(\"Broj slova druge rečenice:\",count_letters(X[1]))\n"
      ],
      "metadata": {
        "colab": {
          "base_uri": "https://localhost:8080/"
        },
        "id": "heOIXmCBBODt",
        "outputId": "24f84422-967b-49d2-a290-b7e6b46f2c1e"
      },
      "execution_count": null,
      "outputs": [
        {
          "output_type": "stream",
          "name": "stdout",
          "text": [
            "Nakon uklanjanja html tagova:\n",
            "0       But could then once pomp to nor that glee glor...\n",
            "1       His honeyed and land vile are so and native fr...\n",
            "2       Tear womans his was by had tis her eremites th...\n",
            "3       The that and land. Cell shun blazon passion un...\n",
            "4       Sing aught through partings things was sacred ...\n",
            "                              ...                        \n",
            "2095    Distant pondered me sought so there perched me...\n",
            "2096    Relief flee not and. Oh will shamed mine by wh...\n",
            "2097    Gloated just the shrieked lost morrow in my bo...\n",
            "2098    Aye girls had plain the deem to a. At monastic...\n",
            "2099    Above nevermore nothing no and chamber soul su...\n",
            "Name: Message, Length: 2100, dtype: object\n",
            "Broj slova prve rečenice: 329\n",
            "Broj slova druge rečenice: 687\n"
          ]
        }
      ]
    },
    {
      "cell_type": "markdown",
      "source": [
        "c) Podijeliti skup podataka na dio za treniranje i testiranje pri čemu 10% ukupnog skupa se treba uzeti kao testni\n",
        "set;"
      ],
      "metadata": {
        "id": "jyLg55jS-JR-"
      }
    },
    {
      "cell_type": "code",
      "source": [
        "from sklearn.model_selection import train_test_split\n",
        "X_train, X_test, y_train, y_test = train_test_split(X, y, test_size = 0.1)"
      ],
      "metadata": {
        "id": "E89AdeVCFx_r"
      },
      "execution_count": null,
      "outputs": []
    },
    {
      "cell_type": "markdown",
      "source": [
        "d) Izvršiti tokenizaciju teksta korištenjem Tokenizer objekta kao što je opisano u vježbi. Vokabular generisati\n",
        "na osnovu trening podataka. Nakon toga, na osnovu generisanog rječnika pretvoriti sve poruke (i iz trening i\n",
        "test skupa) iz teksta u niz cijelih brojeva. Koje su tri najčešće riječi u tekstu? Kako izgleda prva rečenica iz\n",
        "trening skupa podataka, a kako izgleda formirani niz cijelih brojeva za nju?"
      ],
      "metadata": {
        "id": "oO9n0lGc93Vk"
      }
    },
    {
      "cell_type": "code",
      "source": [
        "from keras.preprocessing.text import Tokenizer\n",
        "\n",
        "tokenizer = Tokenizer()\n",
        "tokenizer.fit_on_texts(X_train)\n",
        "train_data_seq = tokenizer.texts_to_sequences(X_train)\n",
        "test_data_seq = tokenizer.texts_to_sequences(X_test)\n",
        "\n",
        "word_counts = tokenizer.word_counts\n",
        "most_common_words = sorted(word_counts.items(), key=lambda x: x[1], reverse=True)[:3]\n",
        "print(\"Tri najčešće riječi u tekstu:\")\n",
        "for word, count in most_common_words:\n",
        "    print(f\"{word}: {count}\")\n",
        "\n",
        "print(X_train.iloc[0])\n",
        "print(train_data_seq[0])\n"
      ],
      "metadata": {
        "colab": {
          "base_uri": "https://localhost:8080/"
        },
        "id": "XnwNQ9xCGqqd",
        "outputId": "3906679e-2d45-4351-d932-14095b8f9a59"
      },
      "execution_count": null,
      "outputs": [
        {
          "output_type": "stream",
          "name": "stdout",
          "text": [
            "Tri najčešće riječi u tekstu:\n",
            "the: 23027\n",
            "and: 19315\n",
            "of: 11085\n",
            "Repeating my this eyes chamber of. And tapping a door window ghastly nightly in the shore lord floor i bird my chamber before. Then but thy she wrought his chamber tell and of scarcely and i shall doubting i. Above and the perched all raven raven fancy stood said bore lenore door the hope and plume sad. Seeming nothing lamplight angels to. Or raven then bust the only quoth i form she chamber me smiling fiend was crest floor. Forget token no i engaged take and still angels remember but bird on fast the spoke spoken. The merely a and my nightly on stood its yet spoke long my.Of his nepenthe tapping but is. Mefilled thee lenore gloating the thereat darkness then burned shrieked is and lordly. If marvelled deep and there the being whether me a ghost fiery nightly chamber of bird. No much chamber entrance me said oer flirt. Over no here sad the. Terrors ebony my till me the no lining fantastic. Books ever thinking and angels bends is this. Unseen beating more gaunt gloating shrieked was no mefilled me doubtless shadow. Me yore said chamber eagerly i. Minute raven the back in gently more. My i madam of never chamber word soul. Tinkled whom fancy mystery.All hopes there thee is the it heaven. Whom broken darkness plume bird tempest above now broken as throws clasp murmured still chamber it. Chamber bust let sculptured tell and this word meaninglittle the was visiter upon saintly dying.\n",
            "[561, 7, 12, 170, 20, 3, 2, 66, 5, 16, 544, 158, 425, 11, 1, 110, 582, 75, 4, 27, 7, 20, 50, 31, 14, 30, 176, 436, 9, 20, 182, 2, 3, 630, 2, 4, 102, 445, 4, 48, 2, 1, 104, 53, 28, 28, 94, 187, 41, 107, 37, 16, 1, 205, 2, 617, 69, 663, 49, 101, 80, 6, 17, 28, 31, 51, 1, 67, 63, 4, 507, 176, 20, 34, 160, 426, 15, 701, 75, 709, 200, 43, 4, 496, 88, 2, 38, 80, 594, 14, 27, 18, 553, 1, 268, 111, 1, 266, 5, 2, 7, 425, 18, 187, 86, 54, 268, 82, 7, 3, 9, 144, 66, 14, 21, 329, 85, 37, 348, 1, 295, 159, 31, 669, 722, 21, 2, 240, 46, 641, 723, 2, 33, 1, 532, 165, 34, 5, 466, 256, 425, 20, 3, 27, 43, 412, 20, 201, 34, 41, 81, 606, 338, 43, 95, 69, 1, 306, 427, 7, 119, 34, 1, 43, 122, 778, 361, 83, 518, 2, 80, 508, 21, 12, 296, 319, 36, 413, 348, 722, 15, 43, 329, 34, 320, 446, 34, 112, 41, 20, 595, 4, 554, 28, 1, 91, 11, 197, 36, 7, 4, 772, 3, 183, 20, 64, 42, 596, 68, 94, 207, 53, 724, 33, 85, 21, 1, 35, 597, 68, 562, 159, 617, 27, 218, 48, 76, 562, 57, 618, 123, 631, 38, 20, 35, 20, 51, 129, 736, 182, 2, 12, 64, 458, 1, 15, 98, 58, 607, 680]\n"
          ]
        }
      ]
    },
    {
      "cell_type": "markdown",
      "source": [
        "e) Kao što smo se mogli uvjeriti u zadatku b), nemaju sve rečenice istu dužinu. To se može riješiti vektorizacijom.\n",
        "Definisati funkcije vectorize_sequences(sequences, dimension) i vectorize_labels(labels).\n",
        "Prva funkcija treba da vrši vektorizaciju ulaznih podataka i prima kao prvi parametar nizove cijelih brojeva\n",
        "koji su rezultat prethodnog podzadatka. Kao drugi parametar treba da prima broj na koju dužinu treba\n",
        "vektorizovati te nizove. Druga funkcija, vectorize_labels, treba da vrši vektorizaciju labela pri čemu labeli\n",
        "’spam’ dodijeliti vrijednost 1, a klasi ’ham’ vrijednost 0. Pozvati ove funkcije nad vrijednostima dobijenim pod\n",
        "c) pri čemu vektorizaciju ulaznih podataka vršiti na vektore od 4000 elemenata;"
      ],
      "metadata": {
        "id": "VfpCLndJ-SFe"
      }
    },
    {
      "cell_type": "code",
      "source": [
        "def vectorize_sequences(sequences, dimension):\n",
        "  results = np.zeros((len(sequences), dimension))\n",
        "  for i, sequence in enumerate(sequences):\n",
        "    results[i, sequence] = 1.\n",
        "  return results\n",
        "\n",
        "def vectorize_labels(labels):\n",
        "  results = np.zeros(len(labels))\n",
        "  for i, label in enumerate(labels):\n",
        "    if (label.lower() == 'spam'):\n",
        "      results[i] = 1\n",
        "  return results\n",
        "\n",
        "X_train_vectorized = vectorize_sequences(train_data_seq, 4000)\n",
        "X_test_vectorized = vectorize_sequences(test_data_seq, 4000)\n",
        "y_train_vectorized = vectorize_labels(y_train)\n",
        "y_test_vectorized = vectorize_labels(y_test)\n",
        "\n",
        "print(X_train_vectorized)\n",
        "print(y_train_vectorized)"
      ],
      "metadata": {
        "colab": {
          "base_uri": "https://localhost:8080/"
        },
        "id": "OdXx_VezNIOU",
        "outputId": "2dd6d655-e67b-494c-c0d0-c959ddb06fbc"
      },
      "execution_count": null,
      "outputs": [
        {
          "output_type": "stream",
          "name": "stdout",
          "text": [
            "[[0. 1. 1. ... 0. 0. 0.]\n",
            " [0. 1. 1. ... 0. 0. 0.]\n",
            " [0. 1. 1. ... 0. 0. 0.]\n",
            " ...\n",
            " [0. 1. 1. ... 0. 0. 0.]\n",
            " [0. 1. 1. ... 0. 0. 0.]\n",
            " [0. 1. 1. ... 0. 0. 0.]]\n",
            "[0. 1. 1. ... 0. 1. 0.]\n"
          ]
        }
      ]
    },
    {
      "cell_type": "markdown",
      "source": [
        "f) Definisati sekvencijalni Keras model koji prima ulaz oblika (4000,). Prva dva skrivena sloja trebaju biti\n",
        "Dense i imati 8 neurona sa aktivacijskom funkcijom relu. Izlazni sloj treba imati jedan neuron i imati\n",
        "sigmoid aktivacijsku funkciju;"
      ],
      "metadata": {
        "id": "hE-6F93V-UCf"
      }
    },
    {
      "cell_type": "code",
      "source": [
        "from keras import models\n",
        "from keras import layers\n",
        "model = models.Sequential()\n",
        "model.add(layers.Dense(8, activation='relu', input_shape=(4000,)))\n",
        "model.add(layers.Dense(8, activation='relu'))\n",
        "model.add(layers.Dense(1, activation='sigmoid'))"
      ],
      "metadata": {
        "id": "mGAn4-LhRcV3"
      },
      "execution_count": null,
      "outputs": []
    },
    {
      "cell_type": "markdown",
      "source": [
        "g) Kompajlirati model tako da koristi rmsprop optimizator, za funkciju gubitka koristiti binary_crossentropy,\n",
        "te accuracy kao metriku;"
      ],
      "metadata": {
        "id": "h2K6jgKc-Vdv"
      }
    },
    {
      "cell_type": "code",
      "source": [
        "model.compile(optimizer='rmsprop',loss='binary_crossentropy',metrics=['accuracy'])\n",
        "model.summary()"
      ],
      "metadata": {
        "colab": {
          "base_uri": "https://localhost:8080/"
        },
        "id": "9lHvQ7X0R1bf",
        "outputId": "773ebb7f-c708-4333-851f-346a769bfa46"
      },
      "execution_count": null,
      "outputs": [
        {
          "output_type": "stream",
          "name": "stdout",
          "text": [
            "Model: \"sequential_1\"\n",
            "_________________________________________________________________\n",
            " Layer (type)                Output Shape              Param #   \n",
            "=================================================================\n",
            " dense_3 (Dense)             (None, 8)                 32008     \n",
            "                                                                 \n",
            " dense_4 (Dense)             (None, 8)                 72        \n",
            "                                                                 \n",
            " dense_5 (Dense)             (None, 1)                 9         \n",
            "                                                                 \n",
            "=================================================================\n",
            "Total params: 32089 (125.35 KB)\n",
            "Trainable params: 32089 (125.35 KB)\n",
            "Non-trainable params: 0 (0.00 Byte)\n",
            "_________________________________________________________________\n"
          ]
        }
      ]
    },
    {
      "cell_type": "markdown",
      "source": [
        "h) Istrenirati model na 5 epoha sa veličinom batcha od 128. 30% skupa za treniranje koristiti za validaciju. Kolika\n",
        "je postignuta tačnost i vrijednost funkcije gubitka? Grafički prikazati;"
      ],
      "metadata": {
        "id": "UMx7AaKD-Y2_"
      }
    },
    {
      "cell_type": "code",
      "source": [
        "import matplotlib.pyplot as plt\n",
        "\n",
        "history = model.fit(X_train_vectorized, y_train_vectorized, epochs=5, batch_size=128, validation_split=0.3)\n",
        "\n",
        "acc = history.history['accuracy']\n",
        "loss_values = history.history['loss']\n",
        "val_loss_values = history.history['val_loss']\n",
        "\n",
        "epochs = range(1, len(acc) + 1)\n",
        "\n",
        "plt.plot(epochs, loss_values, 'bo', label='Training loss')\n",
        "plt.plot(epochs, val_loss_values, 'b', label='Validation loss')\n",
        "plt.title('Training and validation loss')\n",
        "plt.xlabel('Epochs')\n",
        "plt.ylabel('Loss')\n",
        "plt.legend()\n",
        "plt.show()\n",
        "\n",
        "plt.clf()\n",
        "acc_values = history.history['accuracy']\n",
        "val_acc_values = history.history['val_accuracy']\n",
        "plt.plot(epochs, acc_values, 'bo', label='Training acc')\n",
        "plt.plot(epochs, val_acc_values, 'b', label='Validation acc')\n",
        "plt.title('Training and validation accuracy')\n",
        "plt.xlabel('Epochs')\n",
        "plt.ylabel('Loss')\n",
        "plt.legend()\n"
      ],
      "metadata": {
        "colab": {
          "base_uri": "https://localhost:8080/",
          "height": 1000
        },
        "id": "NQbzK4E2SA6c",
        "outputId": "abb23f15-627b-4e1b-f5e6-87c562ee64c8"
      },
      "execution_count": null,
      "outputs": [
        {
          "output_type": "stream",
          "name": "stdout",
          "text": [
            "Epoch 1/5\n",
            "11/11 [==============================] - 1s 30ms/step - loss: 0.3798 - accuracy: 0.9448 - val_loss: 0.1725 - val_accuracy: 1.0000\n",
            "Epoch 2/5\n",
            "11/11 [==============================] - 0s 9ms/step - loss: 0.1125 - accuracy: 1.0000 - val_loss: 0.0709 - val_accuracy: 1.0000\n",
            "Epoch 3/5\n",
            "11/11 [==============================] - 0s 12ms/step - loss: 0.0482 - accuracy: 1.0000 - val_loss: 0.0328 - val_accuracy: 1.0000\n",
            "Epoch 4/5\n",
            "11/11 [==============================] - 0s 10ms/step - loss: 0.0233 - accuracy: 1.0000 - val_loss: 0.0169 - val_accuracy: 1.0000\n",
            "Epoch 5/5\n",
            "11/11 [==============================] - 0s 10ms/step - loss: 0.0123 - accuracy: 1.0000 - val_loss: 0.0095 - val_accuracy: 1.0000\n"
          ]
        },
        {
          "output_type": "display_data",
          "data": {
            "text/plain": [
              "<Figure size 640x480 with 1 Axes>"
            ],
            "image/png": "[encoded data removed]"
          },
          "metadata": {}
        },
        {
          "output_type": "execute_result",
          "data": {
            "text/plain": [
              "<matplotlib.legend.Legend at 0x7eb649261930>"
            ]
          },
          "metadata": {},
          "execution_count": 30
        },
        {
          "output_type": "display_data",
          "data": {
            "text/plain": [
              "<Figure size 640x480 with 1 Axes>"
            ],
            "image/png": "[encoded data removed]"
          },
          "metadata": {}
        }
      ]
    },
    {
      "cell_type": "markdown",
      "source": [
        "i) Izvršiti evaluaciju modela nad testnim skupom podataka. Kolika je tačnost nad ovim skupom?"
      ],
      "metadata": {
        "id": "o87-_CEp-Xev"
      }
    },
    {
      "cell_type": "code",
      "source": [
        "results = model.evaluate(X_test_vectorized, y_test_vectorized)"
      ],
      "metadata": {
        "colab": {
          "base_uri": "https://localhost:8080/"
        },
        "id": "Y0lLrEdFTMZB",
        "outputId": "fe0cc976-d2cf-4bb2-87ad-45d1a3b6c494"
      },
      "execution_count": null,
      "outputs": [
        {
          "output_type": "stream",
          "name": "stdout",
          "text": [
            "7/7 [==============================] - 0s 4ms/step - loss: 0.0098 - accuracy: 1.0000\n"
          ]
        }
      ]
    },
    {
      "cell_type": "markdown",
      "source": [
        "j) Definišite proizvoljnu poruku, pomoću tokenizera formirajte niz cijelih brojeva, vektorizujte ga i provjerite da\n",
        "li model ispravno klasificira tu poruku."
      ],
      "metadata": {
        "id": "WQNEJT1g-bVI"
      }
    },
    {
      "cell_type": "code",
      "source": [
        "custom_message = \"Congratulations! You've won a free vacation.\"\n",
        "custom_sequence = tokenizer.texts_to_sequences([custom_message])\n",
        "custom_sequence_vectorized = vectorize_sequences(custom_sequence, 4000)\n",
        "prediction = model.predict(custom_sequence_vectorized)\n",
        "print(\"Predicted class:\", \"spam\" if prediction[0][0] > 0.5 else \"ham\")"
      ],
      "metadata": {
        "colab": {
          "base_uri": "https://localhost:8080/"
        },
        "id": "LOY9Qw1qT-ms",
        "outputId": "d3acfb79-9889-427e-aa1e-38397221dde1"
      },
      "execution_count": null,
      "outputs": [
        {
          "output_type": "stream",
          "name": "stdout",
          "text": [
            "1/1 [==============================] - 0s 90ms/step\n",
            "Predicted class: ham\n"
          ]
        }
      ]
    },
    {
      "cell_type": "markdown",
      "source": [
        "# Višeklasna klasifikacija - klasificiranje Stackoverflow pitanja"
      ],
      "metadata": {
        "id": "7njSe7mUZvdJ"
      }
    },
    {
      "cell_type": "markdown",
      "source": [
        "a) Učitati ’stackoverflow.csv’ skup podataka iz priloga vježbe i prikazati posljednja tri podatka;"
      ],
      "metadata": {
        "id": "QzdKAwHWZ8qS"
      }
    },
    {
      "cell_type": "code",
      "source": [
        "import pandas as pd\n",
        "stackoverflow=pd.read_csv(\"stackoverflow.csv\")\n",
        "stackoverflow.tail(3)"
      ],
      "metadata": {
        "colab": {
          "base_uri": "https://localhost:8080/",
          "height": 143
        },
        "id": "VRDtlx5Jaa6X",
        "outputId": "b822db45-2b27-4239-dbc0-81f29cb91440"
      },
      "execution_count": null,
      "outputs": [
        {
          "output_type": "execute_result",
          "data": {
            "text/plain": [
              "                                                   post  tags\n",
              "1987  directory folder name to put user defined pack...  java\n",
              "1988  send message to server java  i m creating chat...  java\n",
              "1989  how to add pattern of  *  is url-pattern in we...  java"
            ],
            "text/html": [
              "\n",
              "  <div id=\"df-168e46f4-2783-4d78-b060-45275de20910\" class=\"colab-df-container\">\n",
              "    <div>\n",
              "<style scoped>\n",
              "    .dataframe tbody tr th:only-of-type {\n",
              "        vertical-align: middle;\n",
              "    }\n",
              "\n",
              "    .dataframe tbody tr th {\n",
              "        vertical-align: top;\n",
              "    }\n",
              "\n",
              "    .dataframe thead th {\n",
              "        text-align: right;\n",
              "    }\n",
              "</style>\n",
              "<table border=\"1\" class=\"dataframe\">\n",
              "  <thead>\n",
              "    <tr style=\"text-align: right;\">\n",
              "      <th></th>\n",
              "      <th>post</th>\n",
              "      <th>tags</th>\n",
              "    </tr>\n",
              "  </thead>\n",
              "  <tbody>\n",
              "    <tr>\n",
              "      <th>1987</th>\n",
              "      <td>directory folder name to put user defined pack...</td>\n",
              "      <td>java</td>\n",
              "    </tr>\n",
              "    <tr>\n",
              "      <th>1988</th>\n",
              "      <td>send message to server java  i m creating chat...</td>\n",
              "      <td>java</td>\n",
              "    </tr>\n",
              "    <tr>\n",
              "      <th>1989</th>\n",
              "      <td>how to add pattern of  *  is url-pattern in we...</td>\n",
              "      <td>java</td>\n",
              "    </tr>\n",
              "  </tbody>\n",
              "</table>\n",
              "</div>\n",
              "    <div class=\"colab-df-buttons\">\n",
              "\n",
              "  <div class=\"colab-df-container\">\n",
              "    <button class=\"colab-df-convert\" onclick=\"convertToInteractive('df-168e46f4-2783-4d78-b060-45275de20910')\"\n",
              "            title=\"Convert this dataframe to an interactive table.\"\n",
              "            style=\"display:none;\">\n",
              "\n",
              "  <svg xmlns=\"http://www.w3.org/2000/svg\" height=\"24px\" viewBox=\"0 -960 960 960\">\n",
              "    <path d=\"M120-120v-720h720v720H120Zm60-500h600v-160H180v160Zm220 220h160v-160H400v160Zm0 220h160v-160H400v160ZM180-400h160v-160H180v160Zm440 0h160v-160H620v160ZM180-180h160v-160H180v160Zm440 0h160v-160H620v160Z\"/>\n",
              "  </svg>\n",
              "    </button>\n",
              "\n",
              "  <style>\n",
              "    .colab-df-container {\n",
              "      display:flex;\n",
              "      gap: 12px;\n",
              "    }\n",
              "\n",
              "    .colab-df-convert {\n",
              "      background-color: #E8F0FE;\n",
              "      border: none;\n",
              "      border-radius: 50%;\n",
              "      cursor: pointer;\n",
              "      display: none;\n",
              "      fill: #1967D2;\n",
              "      height: 32px;\n",
              "      padding: 0 0 0 0;\n",
              "      width: 32px;\n",
              "    }\n",
              "\n",
              "    .colab-df-convert:hover {\n",
              "      background-color: #E2EBFA;\n",
              "      box-shadow: 0px 1px 2px rgba(60, 64, 67, 0.3), 0px 1px 3px 1px rgba(60, 64, 67, 0.15);\n",
              "      fill: #174EA6;\n",
              "    }\n",
              "\n",
              "    .colab-df-buttons div {\n",
              "      margin-bottom: 4px;\n",
              "    }\n",
              "\n",
              "    [theme=dark] .colab-df-convert {\n",
              "      background-color: #3B4455;\n",
              "      fill: #D2E3FC;\n",
              "    }\n",
              "\n",
              "    [theme=dark] .colab-df-convert:hover {\n",
              "      background-color: #434B5C;\n",
              "      box-shadow: 0px 1px 3px 1px rgba(0, 0, 0, 0.15);\n",
              "      filter: drop-shadow(0px 1px 2px rgba(0, 0, 0, 0.3));\n",
              "      fill: #FFFFFF;\n",
              "    }\n",
              "  </style>\n",
              "\n",
              "    <script>\n",
              "      const buttonEl =\n",
              "        document.querySelector('#df-168e46f4-2783-4d78-b060-45275de20910 button.colab-df-convert');\n",
              "      buttonEl.style.display =\n",
              "        google.colab.kernel.accessAllowed ? 'block' : 'none';\n",
              "\n",
              "      async function convertToInteractive(key) {\n",
              "        const element = document.querySelector('#df-168e46f4-2783-4d78-b060-45275de20910');\n",
              "        const dataTable =\n",
              "          await google.colab.kernel.invokeFunction('convertToInteractive',\n",
              "                                                    [key], {});\n",
              "        if (!dataTable) return;\n",
              "\n",
              "        const docLinkHtml = 'Like what you see? Visit the ' +\n",
              "          '<a target=\"_blank\" href=https://colab.research.google.com/notebooks/data_table.ipynb>data table notebook</a>'\n",
              "          + ' to learn more about interactive tables.';\n",
              "        element.innerHTML = '';\n",
              "        dataTable['output_type'] = 'display_data';\n",
              "        await google.colab.output.renderOutput(dataTable, element);\n",
              "        const docLink = document.createElement('div');\n",
              "        docLink.innerHTML = docLinkHtml;\n",
              "        element.appendChild(docLink);\n",
              "      }\n",
              "    </script>\n",
              "  </div>\n",
              "\n",
              "\n",
              "<div id=\"df-e4b81c84-457b-4072-812c-f22150fa64e2\">\n",
              "  <button class=\"colab-df-quickchart\" onclick=\"quickchart('df-e4b81c84-457b-4072-812c-f22150fa64e2')\"\n",
              "            title=\"Suggest charts\"\n",
              "            style=\"display:none;\">\n",
              "\n",
              "<svg xmlns=\"http://www.w3.org/2000/svg\" height=\"24px\"viewBox=\"0 0 24 24\"\n",
              "     width=\"24px\">\n",
              "    <g>\n",
              "        <path d=\"M19 3H5c-1.1 0-2 .9-2 2v14c0 1.1.9 2 2 2h14c1.1 0 2-.9 2-2V5c0-1.1-.9-2-2-2zM9 17H7v-7h2v7zm4 0h-2V7h2v10zm4 0h-2v-4h2v4z\"/>\n",
              "    </g>\n",
              "</svg>\n",
              "  </button>\n",
              "\n",
              "<style>\n",
              "  .colab-df-quickchart {\n",
              "      --bg-color: #E8F0FE;\n",
              "      --fill-color: #1967D2;\n",
              "      --hover-bg-color: #E2EBFA;\n",
              "      --hover-fill-color: #174EA6;\n",
              "      --disabled-fill-color: #AAA;\n",
              "      --disabled-bg-color: #DDD;\n",
              "  }\n",
              "\n",
              "  [theme=dark] .colab-df-quickchart {\n",
              "      --bg-color: #3B4455;\n",
              "      --fill-color: #D2E3FC;\n",
              "      --hover-bg-color: #434B5C;\n",
              "      --hover-fill-color: #FFFFFF;\n",
              "      --disabled-bg-color: #3B4455;\n",
              "      --disabled-fill-color: #666;\n",
              "  }\n",
              "\n",
              "  .colab-df-quickchart {\n",
              "    background-color: var(--bg-color);\n",
              "    border: none;\n",
              "    border-radius: 50%;\n",
              "    cursor: pointer;\n",
              "    display: none;\n",
              "    fill: var(--fill-color);\n",
              "    height: 32px;\n",
              "    padding: 0;\n",
              "    width: 32px;\n",
              "  }\n",
              "\n",
              "  .colab-df-quickchart:hover {\n",
              "    background-color: var(--hover-bg-color);\n",
              "    box-shadow: 0 1px 2px rgba(60, 64, 67, 0.3), 0 1px 3px 1px rgba(60, 64, 67, 0.15);\n",
              "    fill: var(--button-hover-fill-color);\n",
              "  }\n",
              "\n",
              "  .colab-df-quickchart-complete:disabled,\n",
              "  .colab-df-quickchart-complete:disabled:hover {\n",
              "    background-color: var(--disabled-bg-color);\n",
              "    fill: var(--disabled-fill-color);\n",
              "    box-shadow: none;\n",
              "  }\n",
              "\n",
              "  .colab-df-spinner {\n",
              "    border: 2px solid var(--fill-color);\n",
              "    border-color: transparent;\n",
              "    border-bottom-color: var(--fill-color);\n",
              "    animation:\n",
              "      spin 1s steps(1) infinite;\n",
              "  }\n",
              "\n",
              "  @keyframes spin {\n",
              "    0% {\n",
              "      border-color: transparent;\n",
              "      border-bottom-color: var(--fill-color);\n",
              "      border-left-color: var(--fill-color);\n",
              "    }\n",
              "    20% {\n",
              "      border-color: transparent;\n",
              "      border-left-color: var(--fill-color);\n",
              "      border-top-color: var(--fill-color);\n",
              "    }\n",
              "    30% {\n",
              "      border-color: transparent;\n",
              "      border-left-color: var(--fill-color);\n",
              "      border-top-color: var(--fill-color);\n",
              "      border-right-color: var(--fill-color);\n",
              "    }\n",
              "    40% {\n",
              "      border-color: transparent;\n",
              "      border-right-color: var(--fill-color);\n",
              "      border-top-color: var(--fill-color);\n",
              "    }\n",
              "    60% {\n",
              "      border-color: transparent;\n",
              "      border-right-color: var(--fill-color);\n",
              "    }\n",
              "    80% {\n",
              "      border-color: transparent;\n",
              "      border-right-color: var(--fill-color);\n",
              "      border-bottom-color: var(--fill-color);\n",
              "    }\n",
              "    90% {\n",
              "      border-color: transparent;\n",
              "      border-bottom-color: var(--fill-color);\n",
              "    }\n",
              "  }\n",
              "</style>\n",
              "\n",
              "  <script>\n",
              "    async function quickchart(key) {\n",
              "      const quickchartButtonEl =\n",
              "        document.querySelector('#' + key + ' button');\n",
              "      quickchartButtonEl.disabled = true;  // To prevent multiple clicks.\n",
              "      quickchartButtonEl.classList.add('colab-df-spinner');\n",
              "      try {\n",
              "        const charts = await google.colab.kernel.invokeFunction(\n",
              "            'suggestCharts', [key], {});\n",
              "      } catch (error) {\n",
              "        console.error('Error during call to suggestCharts:', error);\n",
              "      }\n",
              "      quickchartButtonEl.classList.remove('colab-df-spinner');\n",
              "      quickchartButtonEl.classList.add('colab-df-quickchart-complete');\n",
              "    }\n",
              "    (() => {\n",
              "      let quickchartButtonEl =\n",
              "        document.querySelector('#df-e4b81c84-457b-4072-812c-f22150fa64e2 button');\n",
              "      quickchartButtonEl.style.display =\n",
              "        google.colab.kernel.accessAllowed ? 'block' : 'none';\n",
              "    })();\n",
              "  </script>\n",
              "</div>\n",
              "    </div>\n",
              "  </div>\n"
            ],
            "application/vnd.google.colaboratory.intrinsic+json": {
              "type": "dataframe",
              "summary": "{\n  \"name\": \"stackoverflow\",\n  \"rows\": 3,\n  \"fields\": [\n    {\n      \"column\": \"post\",\n      \"properties\": {\n        \"dtype\": \"string\",\n        \"num_unique_values\": 3,\n        \"samples\": [\n          \"directory folder name to put user defined packages in tomcat 7  i am new to java and jsp. i have just created a small package and that package contains a simple java class. let me show what i really want to do. i am not working with servlets so please tell me about this simple example so that i can go ahead with my work. below is my code or a package class and a jsp page.    <strong>my java package</strong>   <pre><code>package mypack;  //this is my package  public class abc{    public abc(){    }    public void message(){         system.out.println( my first java package );    } } </code></pre>   <strong>index.jsp</strong>     this is my jsp page where i need to use this package   <pre><code>&lt;%@ page import= java.sql.* %&gt; &lt;%@ page import= mypack.* %&gt; &lt;%  abc a = new abc();  a.messsage(); %&gt; </code></pre>   i was using jdk1.5 and tomcat 3. but i want to update my system. now i have jdk1.7.0_11 and tomcat 7. i know the path of tomcat 3 to put my packages but i don t know where to put these packages in tomcat 7.    <strong>tomcat 3 directory path to place packages:</strong>   <pre><code>d:\\\\java\\\\tomcat\\\\examples\\\\web-inf\\\\classes   //i put my package at this path in tomcat3 </code></pre>   <strong>tomcat 7 directory path to place packages:</strong>   <pre><code>d:\\\\web\\\\tomcat 7.0\\\\webapps\\\\root\\\\web-inf   //trying to put my package in here but no use. </code></pre>   i could not find the classes folder under the direcoty web-inf in tomcat 7. i made a folder myself named classes inside of web-inf but it does not work. even i have deleted that my  classes folder  and put my package in web-inf  but it does not work. please tell me the path where i can put my java package in tomcat server 7.    i have placed my jsp page in here:   <pre><code>d:\\\\web\\\\tomcat 7.0\\\\webapps\\\\root\\\\a    //folder  a  contains my jsp file. index.jsp and                                         its working </code></pre>   problem is  jsp page could not find the package. please help me out with this.\",\n          \"send message to server java  i m creating chat program. at first  i send message to server from client and server should get message  but the message is not sent to the server until i shut down client.    <em>here is my code:</em>    <strong>client:</strong>   <pre><code> private socket client;  private thread runclient;  private jbutton send;  private int port=8000;  private string host= localhost ;   public void init() {//here we connecting to server       send=new jbutton();      send.setfont(new font( times new roman   font.bold  15));      send.setlocation(575 text.getheight()+15);//395      send.setbordercolor(color.cyan);      send.setforeground(color.white);      send.settext( send );      send.setsize(30 70);      send.addactionlistener(new actionlistener() {          @override         public void actionperformed(actionevent e) {             sendbutton_click(e);         }      });        try        {          inetaddress address = inetaddress.getbyname(host);          client = new socket(address  port);          system.out.println( client started. port:  +port+ \\\\n );         }catch(exception e){           system.out.println( error: +e);        }    } public void  sendbutton_click(actionevent e) {//here we sending message to server      string sendmessage =  hi ;         try {             sendmessagetoserver(client sendmessage);//sending message to server         } catch (ioexception e1) {             e1.printstacktrace();         }        system.out.println( message sent to the server :  +sendmessage);     }  } private void sendmessagetoserver(socket socket string message) throws ioexception {     bufferedwriter writer = new bufferedwriter(new      outputstreamwriter(socket.getoutputstream()));      writer.write(message);     writer.flush(); } </code></pre>   <strong>here is server:</strong>   <pre><code> private int port=8000;  public void init() {//here we starting server and starting thread   try {             serversocket = new serversocket(port);             system.out.println( server on. port:  +port+ \\\\n );         } catch (ioexception e1) {             e1.printstacktrace();         }          runserver = new thread() {                 public void run() {                     serverloop();                 }          };          runserver.start();  }  public void serverloop() {//here we should receive message..     while(true) {         system.out.println( server loop );           try             {                     socket clientsocket = serversocket.accept();                      inputstreamreader inputstreamreader = new                         inputstreamreader(clientsocket.getinputstream());                      bufferedreader bufferedreader = new                       bufferedreader(inputstreamreader);                      printwriter printwriter = new                       printwriter(clientsocket.getoutputstream() true);                      string line =   ;                     boolean done = false;                     while (((line = bufferedreader.readline()) != null) &amp;&amp;(!done)){                         system.out.println( received from client:   + line);                          if (line.comparetoignorecase( exit ) == 0) done = true;                       }             }             catch (exception e){                 e.printstacktrace();             }         }      }  </code></pre>\",\n          \"how to add pattern of  *  is url-pattern in web.xml  i want to add pattern ti url-pattern of test1/*/test2.    is it possible to add *   or it should be only in the end       if not how i can it     <pre><code>&lt;security-constraint&gt;     &lt;web-resource-collection&gt;         &lt;web-resource-name&gt;prevent access&lt;/web-resource-name&gt;         &lt;url-pattern&gt;/test1/*/test2&lt;/url-pattern&gt;                 &lt;/web-resource-collection&gt;       &lt;auth-constraint /&gt;     &lt;/security-constraint&gt; </code></pre>\"\n        ],\n        \"semantic_type\": \"\",\n        \"description\": \"\"\n      }\n    },\n    {\n      \"column\": \"tags\",\n      \"properties\": {\n        \"dtype\": \"category\",\n        \"num_unique_values\": 1,\n        \"samples\": [\n          \"java\"\n        ],\n        \"semantic_type\": \"\",\n        \"description\": \"\"\n      }\n    }\n  ]\n}"
            }
          },
          "metadata": {},
          "execution_count": 33
        }
      ]
    },
    {
      "cell_type": "markdown",
      "source": [
        "b) Izdvojiti iz skupa podataka X i y, odnosno skup pitanja i skup odgovarajučih labela respektivno. Koliko ima\n",
        "jedinstvenih labela, odnosno iz koliko programskih jezika se nalaze pitanja u skupu podataka? Koji su to\n",
        "programski jezici?"
      ],
      "metadata": {
        "id": "4M2udUxSZ-Bj"
      }
    },
    {
      "cell_type": "code",
      "source": [
        "X = stackoverflow['post']\n",
        "y = stackoverflow['tags']\n",
        "\n",
        "broj_jedinstvenih_jezika = y.nunique()\n",
        "jedinstveni_jezici = y.unique()\n",
        "\n",
        "print(\"Broj programskih jezika:\", broj_jedinstvenih_jezika)\n",
        "print(\"Jedinstvene labele (programski jezici):\", jedinstveni_jezici)"
      ],
      "metadata": {
        "colab": {
          "base_uri": "https://localhost:8080/"
        },
        "id": "DJwvwjzKabYP",
        "outputId": "68c55c80-0416-48d7-b736-8e5dc441918b"
      },
      "execution_count": null,
      "outputs": [
        {
          "output_type": "stream",
          "name": "stdout",
          "text": [
            "Broj programskih jezika: 4\n",
            "Jedinstvene labele (programski jezici): ['java' 'javascript' 'c#' 'python']\n"
          ]
        }
      ]
    },
    {
      "cell_type": "markdown",
      "source": [
        "c) Izvršiti one-hot enkodiranje labela - prvo tekstualne labele mapirati u cijeli broj pomoću LabelEncoder objekta iz sklearn.preprocessing modula. Izvršiti one-hot enkodiranje labela korištenjem to_categorical funkcije iz keras.utils modula. Ispisati dobijeni niz labela;"
      ],
      "metadata": {
        "id": "s0NDDiPYZ_x6"
      }
    },
    {
      "cell_type": "code",
      "source": [
        "from keras.utils import to_categorical\n",
        "from sklearn.preprocessing import LabelEncoder\n",
        "le = LabelEncoder()\n",
        "y = le.fit_transform(y)\n",
        "y = to_categorical(y)\n",
        "y"
      ],
      "metadata": {
        "colab": {
          "base_uri": "https://localhost:8080/"
        },
        "id": "QeeVc5F5abtF",
        "outputId": "f9848a6b-1c66-483d-a21f-d489ea3868a2"
      },
      "execution_count": null,
      "outputs": [
        {
          "output_type": "execute_result",
          "data": {
            "text/plain": [
              "array([[0., 1., 0., 0.],\n",
              "       [0., 0., 1., 0.],\n",
              "       [1., 0., 0., 0.],\n",
              "       ...,\n",
              "       [0., 1., 0., 0.],\n",
              "       [0., 1., 0., 0.],\n",
              "       [0., 1., 0., 0.]], dtype=float32)"
            ]
          },
          "metadata": {},
          "execution_count": 35
        }
      ]
    },
    {
      "cell_type": "markdown",
      "source": [
        "d) Podijeliti skup podataka na dio za treniranje i testiranje pri čemu 10% ukupnog skupa se treba uzeti kao testni\n",
        "set;"
      ],
      "metadata": {
        "id": "xDNCgg5BaDPw"
      }
    },
    {
      "cell_type": "code",
      "source": [
        "from sklearn.model_selection import train_test_split\n",
        "X_train, X_test, y_train, y_test = train_test_split(X, y, test_size = 0.1)"
      ],
      "metadata": {
        "id": "OlzU9_fcacBb"
      },
      "execution_count": null,
      "outputs": []
    },
    {
      "cell_type": "markdown",
      "source": [
        "e) Tokenizirati i vektorizovati tekst (pitanja) slično kao u prethodnom zadatku. Prilikom tokenizacije uzimati\n",
        "u obzir samo 500 najčešćih riječi (ovo se može definisati pri samom formiranju Tokenizer objekta pomoću\n",
        "jednog od parametara). Prema ovome prilagoditi i parametar dimensions pri vektorizaciji;"
      ],
      "metadata": {
        "id": "bqi_nFpJaFRK"
      }
    },
    {
      "cell_type": "code",
      "source": [
        "from keras.preprocessing.text import Tokenizer\n",
        "import numpy as np\n",
        "\n",
        "tokenizer = Tokenizer(num_words=500)\n",
        "tokenizer.fit_on_texts(X_train)\n",
        "train_data_seq = tokenizer.texts_to_sequences(X_train)\n",
        "test_data_seq = tokenizer.texts_to_sequences(X_test)\n",
        "\n",
        "def vectorize_sequences(sequences, dimension):\n",
        "  results = np.zeros((len(sequences), dimension))\n",
        "  for i, sequence in enumerate(sequences):\n",
        "    results[i, sequence] = 1.\n",
        "  return results\n",
        "\n",
        "X_train_vectorized = vectorize_sequences(train_data_seq, 500)\n",
        "X_test_vectorized = vectorize_sequences(test_data_seq, 500)\n",
        "\n",
        "print(X_train_vectorized)\n"
      ],
      "metadata": {
        "colab": {
          "base_uri": "https://localhost:8080/"
        },
        "outputId": "704ab87a-2165-42a2-fc64-a0fbe82f0e48",
        "id": "EFPbY4i1dEzl"
      },
      "execution_count": null,
      "outputs": [
        {
          "output_type": "stream",
          "name": "stdout",
          "text": [
            "[[0. 0. 0. ... 0. 0. 0.]\n",
            " [0. 0. 1. ... 0. 0. 0.]\n",
            " [0. 1. 1. ... 0. 0. 0.]\n",
            " ...\n",
            " [0. 0. 1. ... 0. 0. 0.]\n",
            " [0. 1. 1. ... 0. 0. 0.]\n",
            " [0. 1. 0. ... 0. 0. 0.]]\n"
          ]
        }
      ]
    },
    {
      "cell_type": "markdown",
      "source": [
        "f) Definisati sekvencijalni Keras model sa 3 Dense sloja. Prvi treba imati 32 neurona, drugi 8 neurona, a\n",
        "posljednji, koji je i izlazni treba imati onoliko neurona koliko ima klasa u ovom problemu. Aktivacijske funkcije\n",
        "prva dva sloja postaviti na relu, a posljednjeg sloja na softmax;"
      ],
      "metadata": {
        "id": "RmCRb9UVaJP4"
      }
    },
    {
      "cell_type": "code",
      "source": [
        "from keras import models\n",
        "from keras import layers\n",
        "model = models.Sequential()\n",
        "model.add(layers.Dense(32, activation='relu', input_shape=(500,)))\n",
        "model.add(layers.Dense(8, activation='relu'))\n",
        "model.add(layers.Dense(broj_jedinstvenih_jezika, activation='softmax'))"
      ],
      "metadata": {
        "id": "5eMDY_3eacvj"
      },
      "execution_count": null,
      "outputs": []
    },
    {
      "cell_type": "markdown",
      "source": [
        "g) Kompajlirati model tako da se koristi adam optimizator, categorical_crossentropy funkcija gubitka i\n",
        "accuracy metrika. Prikazati sažetak (eng. summary) modela;"
      ],
      "metadata": {
        "id": "_4UCOgB2aLwP"
      }
    },
    {
      "cell_type": "code",
      "source": [
        "model.compile(optimizer='adam',loss='categorical_crossentropy',metrics=['accuracy'])\n",
        "model.summary()"
      ],
      "metadata": {
        "colab": {
          "base_uri": "https://localhost:8080/"
        },
        "id": "o5VWK76ZadBP",
        "outputId": "cfe59923-13a8-49ec-d873-fead4967ed2d"
      },
      "execution_count": null,
      "outputs": [
        {
          "output_type": "stream",
          "name": "stdout",
          "text": [
            "Model: \"sequential_2\"\n",
            "_________________________________________________________________\n",
            " Layer (type)                Output Shape              Param #   \n",
            "=================================================================\n",
            " dense_6 (Dense)             (None, 32)                16032     \n",
            "                                                                 \n",
            " dense_7 (Dense)             (None, 8)                 264       \n",
            "                                                                 \n",
            " dense_8 (Dense)             (None, 4)                 36        \n",
            "                                                                 \n",
            "=================================================================\n",
            "Total params: 16332 (63.80 KB)\n",
            "Trainable params: 16332 (63.80 KB)\n",
            "Non-trainable params: 0 (0.00 Byte)\n",
            "_________________________________________________________________\n"
          ]
        }
      ]
    },
    {
      "cell_type": "markdown",
      "source": [
        "h) Istrenirati model na 8 epoha sa veličinom batcha 8. Izdvojiti 25% trening skupa da se koristi za validaciju.\n",
        "Kolika je postignuta tačnost modela I kolika je vrijednost funkcije gubitka? Grafički prikazati;"
      ],
      "metadata": {
        "id": "Vc0DsL3RaN5q"
      }
    },
    {
      "cell_type": "code",
      "source": [
        "import matplotlib.pyplot as plt\n",
        "\n",
        "history = model.fit(X_train_vectorized, y_train, epochs=8, batch_size=8, validation_split=0.25)\n",
        "\n",
        "acc = history.history['accuracy']\n",
        "loss_values = history.history['loss']\n",
        "val_loss_values = history.history['val_loss']\n",
        "epochs = range(1, len(acc) + 1)\n",
        "plt.plot(epochs, loss_values, 'bo', label='Training loss')\n",
        "plt.plot(epochs, val_loss_values, 'b', label='Validation loss')\n",
        "plt.title('Training and validation loss')\n",
        "plt.xlabel('Epochs')\n",
        "plt.ylabel('Loss')\n",
        "plt.legend()\n",
        "plt.show()"
      ],
      "metadata": {
        "colab": {
          "base_uri": "https://localhost:8080/",
          "height": 750
        },
        "id": "R_uom2raadae",
        "outputId": "a1306916-9ee6-4beb-ee48-4027f5136729"
      },
      "execution_count": null,
      "outputs": [
        {
          "output_type": "stream",
          "name": "stdout",
          "text": [
            "Epoch 1/8\n",
            "168/168 [==============================] - 2s 5ms/step - loss: 1.0414 - accuracy: 0.6054 - val_loss: 0.6175 - val_accuracy: 0.8371\n",
            "Epoch 2/8\n",
            "168/168 [==============================] - 1s 4ms/step - loss: 0.3454 - accuracy: 0.9203 - val_loss: 0.2966 - val_accuracy: 0.9085\n",
            "Epoch 3/8\n",
            "168/168 [==============================] - 1s 4ms/step - loss: 0.1481 - accuracy: 0.9717 - val_loss: 0.2540 - val_accuracy: 0.9152\n",
            "Epoch 4/8\n",
            "168/168 [==============================] - 1s 4ms/step - loss: 0.0784 - accuracy: 0.9888 - val_loss: 0.2305 - val_accuracy: 0.9196\n",
            "Epoch 5/8\n",
            "168/168 [==============================] - 0s 3ms/step - loss: 0.0499 - accuracy: 0.9940 - val_loss: 0.2157 - val_accuracy: 0.9174\n",
            "Epoch 6/8\n",
            "168/168 [==============================] - 1s 3ms/step - loss: 0.0310 - accuracy: 0.9978 - val_loss: 0.2157 - val_accuracy: 0.9152\n",
            "Epoch 7/8\n",
            "168/168 [==============================] - 1s 3ms/step - loss: 0.0205 - accuracy: 0.9985 - val_loss: 0.2260 - val_accuracy: 0.9129\n",
            "Epoch 8/8\n",
            "168/168 [==============================] - 0s 2ms/step - loss: 0.0144 - accuracy: 0.9993 - val_loss: 0.2347 - val_accuracy: 0.9196\n"
          ]
        },
        {
          "output_type": "display_data",
          "data": {
            "text/plain": [
              "<Figure size 640x480 with 1 Axes>"
            ],
            "image/png": "[encoded data removed]"
          },
          "metadata": {}
        }
      ]
    },
    {
      "cell_type": "markdown",
      "source": [
        "i) Izvršiti evaluaciju modela nad testnim skupom. Kolika je tačnost nad ovim skupom?"
      ],
      "metadata": {
        "id": "kek50IMUaPna"
      }
    },
    {
      "cell_type": "code",
      "source": [
        "results = model.evaluate(X_test_vectorized, y_test)"
      ],
      "metadata": {
        "colab": {
          "base_uri": "https://localhost:8080/"
        },
        "id": "9SJ-YGQ-advG",
        "outputId": "c114e262-6a3d-4372-d933-3db8ea19c9b3"
      },
      "execution_count": null,
      "outputs": [
        {
          "output_type": "stream",
          "name": "stdout",
          "text": [
            "7/7 [==============================] - 0s 4ms/step - loss: 0.2661 - accuracy: 0.9045\n"
          ]
        }
      ]
    }
  ]
}