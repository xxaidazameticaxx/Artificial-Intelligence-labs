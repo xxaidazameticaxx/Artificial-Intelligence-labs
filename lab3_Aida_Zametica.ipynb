{
  "nbformat": 4,
  "nbformat_minor": 0,
  "metadata": {
    "colab": {
      "provenance": []
    },
    "kernelspec": {
      "name": "python3",
      "display_name": "Python 3"
    },
    "language_info": {
      "name": "python"
    }
  },
  "cells": [
    {
      "cell_type": "markdown",
      "source": [
        "# Zadatak 3 - Klasični algoritam mašinskog učenja"
      ],
      "metadata": {
        "id": "nHVkT523PheP"
      }
    },
    {
      "cell_type": "markdown",
      "source": [
        "a) Sam skup podataka dolazi spreman uz Sklearn, te ga je potrebno učitati:"
      ],
      "metadata": {
        "id": "btTE0ULjPqOv"
      }
    },
    {
      "cell_type": "code",
      "source": [
        "from sklearn.datasets import load_iris\n",
        "\n",
        "iris = load_iris()\n",
        "X = iris.data\n",
        "y = iris.target\n",
        "\n",
        "feature_names = iris.feature_names\n",
        "target_names = iris.target_names\n",
        "\n",
        "print(\"Nazivi znacajki:\", feature_names)\n",
        "print(\"Nazivi labela:\", target_names)\n",
        "print(\"\\nPrvih 5 redova X:\\n\", X[:5])"
      ],
      "metadata": {
        "colab": {
          "base_uri": "https://localhost:8080/"
        },
        "id": "FicrLnyIP9Si",
        "outputId": "fca9c066-6519-4e34-c0b2-690813c611d4"
      },
      "execution_count": null,
      "outputs": [
        {
          "output_type": "stream",
          "name": "stdout",
          "text": [
            "Nazivi znacajki: ['sepal length (cm)', 'sepal width (cm)', 'petal length (cm)', 'petal width (cm)']\n",
            "Nazivi labela: ['setosa' 'versicolor' 'virginica']\n",
            "\n",
            "Prvih 5 redova X:\n",
            " [[5.1 3.5 1.4 0.2]\n",
            " [4.9 3.  1.4 0.2]\n",
            " [4.7 3.2 1.3 0.2]\n",
            " [4.6 3.1 1.5 0.2]\n",
            " [5.  3.6 1.4 0.2]]\n"
          ]
        }
      ]
    },
    {
      "cell_type": "markdown",
      "source": [
        "- Ovim kodom imamo uvid u strukturu i sadržaj učitanog skupa podataka. Ovaj skup podataka sadrži informacije o dužini i širini latica cvijeta iris, te razvrstava cvjetove u tri klase: Setosa, Versicolour i Virginica."
      ],
      "metadata": {
        "id": "JnRzsrRNVQHQ"
      }
    },
    {
      "cell_type": "markdown",
      "source": [
        "b) Sljedeći korak jeste dijeljenje skupa podataka na dva dijela - trening i testni skup. Trening skup se koristi\n",
        "kako bi algoritam naučio uzorke ponašanja, dok testni skup predstavlja nove podatke, na osnovu kojih se vrši\n",
        "evaluacija algoritma (to jeste evaluacija naučenog). Dijeljenje skupa podataka se vrši na ranije opisani način:"
      ],
      "metadata": {
        "id": "qZy7lzKLQJf8"
      }
    },
    {
      "cell_type": "code",
      "source": [
        "from sklearn.model_selection import train_test_split\n",
        "\n",
        "X_train, X_test, y_train, y_test = train_test_split(X, y, test_size = 0.3, random_state = 1)\n",
        "\n",
        "print(X_train.shape)\n",
        "print(X_test.shape)\n",
        "\n",
        "print(y_train.shape)\n",
        "print(y_test.shape)"
      ],
      "metadata": {
        "colab": {
          "base_uri": "https://localhost:8080/"
        },
        "id": "dQRg7f--QP1I",
        "outputId": "e3fc1bfb-3bfc-491d-e9d3-479facfe8b5f"
      },
      "execution_count": null,
      "outputs": [
        {
          "output_type": "stream",
          "name": "stdout",
          "text": [
            "(105, 4)\n",
            "(45, 4)\n",
            "(105,)\n",
            "(45,)\n"
          ]
        }
      ]
    },
    {
      "cell_type": "markdown",
      "source": [
        "- Koja funkcija je korištena za podjelu skupa podataka?\n",
        "\n",
        "  Korištena je funkcija 'train_test_split' iz 'sklearn.model_selection'.\n",
        "- Koje parametre prima\n",
        "ova funkcija?\n",
        "  Ova funkcija prima:\n",
        "  - array (skup podataka koji će biti podijeljen na trening i testne skupove),\n",
        "  - test_size (opc. par. koji predstavlja proporciju skupa podataka koje želimo uključiti u testni skup),\n",
        "  - train_size (opc. par. koji određuje veličinu trening skupa),\n",
        "  - random_state (opc. par. koji kontroliše miješanje podataka prije primjene podjele),\n",
        "  - shuffle(opc. par. koji određuje hoće li se podaci miješati prije podjele),\n",
        "  - stratify (opc. par. koji ako nije None podatke dijeli na stratificiran način koristeći ovo kao oznake klasa)\n",
        "- Koji je oblik novonastalih skupova?\n",
        "\n",
        "  Dimenzije 'X_traina' su broj uzoraka u trening skupu, 'X_testa' su broj uzoraka u testnom skupu, 'Y_train' su broj uzoraka u trening skupu, 'Y_test' su broj uzoraka u testnom skupu.\n",
        "  \n",
        "  S tim da se 'X_train' i 'X_test' koriste za obuku i evaluaciju modela jer sadrže informacije o atributima uzoraka, dok 'Y_train' i 'Y_test' se koriste za provjeru performansi modela u predviđanju ciljnih klasa.\n",
        "- Da li je ovo veliki skup podataka? Zašto jeste/nije?\n",
        "\n",
        "  U odnosu na druge skupove podataka, skup podataka irisa se smatra relativno malim, ali je dovoljan za klasične primjene mašinskog učenja i pogodan je za demonstracijske svrhe i učenje."
      ],
      "metadata": {
        "id": "1qNIfw6JWP9M"
      }
    },
    {
      "cell_type": "markdown",
      "source": [
        "c) Sada je vrijeme da se primijeni odgovarajući algoritam. U ovom primjeru, koristit ćemo k-NN (eng. k-nearest\n",
        "neighbours). Ovaj algoritam je izuzetno jednostavan, te klasifikaciju vrši na način da svaki podatak mapira kao\n",
        "n-dimenzionalnu tačku. Klasa novog podatka se zatim određuje na osnovu k najbližih tačaka u tom prostoru.\n",
        "Uzima se ona klasa koja se pojavljuje najčešće u k najbližih susjeda. Ovaj algoritam je već implementiran u\n",
        "sklopu Sklearn, pa se može jednostavno pozvati:"
      ],
      "metadata": {
        "id": "GJ-H0293Qoh7"
      }
    },
    {
      "cell_type": "code",
      "source": [
        "from sklearn.neighbors import KNeighborsClassifier\n",
        "from sklearn import metrics\n",
        "\n",
        "classifier_knn = KNeighborsClassifier(n_neighbors = 3)\n",
        "\n",
        "classifier_knn.fit(X_train, y_train)"
      ],
      "metadata": {
        "colab": {
          "base_uri": "https://localhost:8080/",
          "height": 74
        },
        "id": "RvwxueTvQpKa",
        "outputId": "54802a42-8255-4827-fe78-57f456601ef5"
      },
      "execution_count": null,
      "outputs": [
        {
          "output_type": "execute_result",
          "data": {
            "text/plain": [
              "KNeighborsClassifier(n_neighbors=3)"
            ],
            "text/html": [
              "<style>#sk-container-id-2 {color: black;background-color: white;}#sk-container-id-2 pre{padding: 0;}#sk-container-id-2 div.sk-toggleable {background-color: white;}#sk-container-id-2 label.sk-toggleable__label {cursor: pointer;display: block;width: 100%;margin-bottom: 0;padding: 0.3em;box-sizing: border-box;text-align: center;}#sk-container-id-2 label.sk-toggleable__label-arrow:before {content: \"▸\";float: left;margin-right: 0.25em;color: #696969;}#sk-container-id-2 label.sk-toggleable__label-arrow:hover:before {color: black;}#sk-container-id-2 div.sk-estimator:hover label.sk-toggleable__label-arrow:before {color: black;}#sk-container-id-2 div.sk-toggleable__content {max-height: 0;max-width: 0;overflow: hidden;text-align: left;background-color: #f0f8ff;}#sk-container-id-2 div.sk-toggleable__content pre {margin: 0.2em;color: black;border-radius: 0.25em;background-color: #f0f8ff;}#sk-container-id-2 input.sk-toggleable__control:checked~div.sk-toggleable__content {max-height: 200px;max-width: 100%;overflow: auto;}#sk-container-id-2 input.sk-toggleable__control:checked~label.sk-toggleable__label-arrow:before {content: \"▾\";}#sk-container-id-2 div.sk-estimator input.sk-toggleable__control:checked~label.sk-toggleable__label {background-color: #d4ebff;}#sk-container-id-2 div.sk-label input.sk-toggleable__control:checked~label.sk-toggleable__label {background-color: #d4ebff;}#sk-container-id-2 input.sk-hidden--visually {border: 0;clip: rect(1px 1px 1px 1px);clip: rect(1px, 1px, 1px, 1px);height: 1px;margin: -1px;overflow: hidden;padding: 0;position: absolute;width: 1px;}#sk-container-id-2 div.sk-estimator {font-family: monospace;background-color: #f0f8ff;border: 1px dotted black;border-radius: 0.25em;box-sizing: border-box;margin-bottom: 0.5em;}#sk-container-id-2 div.sk-estimator:hover {background-color: #d4ebff;}#sk-container-id-2 div.sk-parallel-item::after {content: \"\";width: 100%;border-bottom: 1px solid gray;flex-grow: 1;}#sk-container-id-2 div.sk-label:hover label.sk-toggleable__label {background-color: #d4ebff;}#sk-container-id-2 div.sk-serial::before {content: \"\";position: absolute;border-left: 1px solid gray;box-sizing: border-box;top: 0;bottom: 0;left: 50%;z-index: 0;}#sk-container-id-2 div.sk-serial {display: flex;flex-direction: column;align-items: center;background-color: white;padding-right: 0.2em;padding-left: 0.2em;position: relative;}#sk-container-id-2 div.sk-item {position: relative;z-index: 1;}#sk-container-id-2 div.sk-parallel {display: flex;align-items: stretch;justify-content: center;background-color: white;position: relative;}#sk-container-id-2 div.sk-item::before, #sk-container-id-2 div.sk-parallel-item::before {content: \"\";position: absolute;border-left: 1px solid gray;box-sizing: border-box;top: 0;bottom: 0;left: 50%;z-index: -1;}#sk-container-id-2 div.sk-parallel-item {display: flex;flex-direction: column;z-index: 1;position: relative;background-color: white;}#sk-container-id-2 div.sk-parallel-item:first-child::after {align-self: flex-end;width: 50%;}#sk-container-id-2 div.sk-parallel-item:last-child::after {align-self: flex-start;width: 50%;}#sk-container-id-2 div.sk-parallel-item:only-child::after {width: 0;}#sk-container-id-2 div.sk-dashed-wrapped {border: 1px dashed gray;margin: 0 0.4em 0.5em 0.4em;box-sizing: border-box;padding-bottom: 0.4em;background-color: white;}#sk-container-id-2 div.sk-label label {font-family: monospace;font-weight: bold;display: inline-block;line-height: 1.2em;}#sk-container-id-2 div.sk-label-container {text-align: center;}#sk-container-id-2 div.sk-container {/* jupyter's `normalize.less` sets `[hidden] { display: none; }` but bootstrap.min.css set `[hidden] { display: none !important; }` so we also need the `!important` here to be able to override the default hidden behavior on the sphinx rendered scikit-learn.org. See: https://github.com/scikit-learn/scikit-learn/issues/21755 */display: inline-block !important;position: relative;}#sk-container-id-2 div.sk-text-repr-fallback {display: none;}</style><div id=\"sk-container-id-2\" class=\"sk-top-container\"><div class=\"sk-text-repr-fallback\"><pre>KNeighborsClassifier(n_neighbors=3)</pre><b>In a Jupyter environment, please rerun this cell to show the HTML representation or trust the notebook. <br />On GitHub, the HTML representation is unable to render, please try loading this page with nbviewer.org.</b></div><div class=\"sk-container\" hidden><div class=\"sk-item\"><div class=\"sk-estimator sk-toggleable\"><input class=\"sk-toggleable__control sk-hidden--visually\" id=\"sk-estimator-id-2\" type=\"checkbox\" checked><label for=\"sk-estimator-id-2\" class=\"sk-toggleable__label sk-toggleable__label-arrow\">KNeighborsClassifier</label><div class=\"sk-toggleable__content\"><pre>KNeighborsClassifier(n_neighbors=3)</pre></div></div></div></div></div>"
            ]
          },
          "metadata": {},
          "execution_count": 35
        }
      ]
    },
    {
      "cell_type": "markdown",
      "source": [
        "- Na koji način se učitava k-NN? Koja je vrijednost k?\n",
        "\n",
        "  Klasifikator k-NN se učitava stvaranjem instance klase 'KNeighborsClassifier' s parametrom 'n_neighbors' postavljenim na 3. Ovo znači da će se za klasifikaciju koristiti 3 najbliža susjeda."
      ],
      "metadata": {
        "id": "btOzKEUYeru1"
      }
    },
    {
      "cell_type": "markdown",
      "source": [
        "d) Konačno, potrebno je algoritam primijeniti nad testnim skupom, kako bi se odredila uspješnost. U tu svrhu,\n",
        "koristi se isječak koda kao što slijedi:"
      ],
      "metadata": {
        "id": "m-vaQEfgRiX4"
      }
    },
    {
      "cell_type": "code",
      "source": [
        "y_pred = classifier_knn.predict(X_test)\n",
        "\n",
        "print(\"Tacnost:\", metrics.accuracy_score(y_test, y_pred))"
      ],
      "metadata": {
        "colab": {
          "base_uri": "https://localhost:8080/"
        },
        "id": "iUumqxtMRiBr",
        "outputId": "d2d032dc-c1ed-41c0-9d7c-193b667ffccf"
      },
      "execution_count": null,
      "outputs": [
        {
          "output_type": "stream",
          "name": "stdout",
          "text": [
            "Tacnost: 0.9777777777777777\n"
          ]
        }
      ]
    },
    {
      "cell_type": "markdown",
      "source": [
        "- Koja je tačnost ovog algoritma?\n",
        "  \n",
        "  Za ovaj primjer tačnost je : 0.9777777777777777\n",
        "  Tačnost algoritma k-najbližih susjeda predstavlja procjenu koliko je dobar klasifikator u predviđanju klasa uzoraka u testnom skupu podataka. Tačnost se izračunava uspoređivanjem stvarnih klasa uzoraka (koje su poznate, jer se nalaze u testnom skupu) s klasama koje je algoritam predvidio za te uzorke. Ako algoritam tačno klasificira većinu uzoraka, tačnost će biti visoka, a ako su predikcije netačne za većinu uzoraka, tačnost će biti niska. Ova tačnost pruža mjeru koliko dobro algoritam k-NN funkcionira na tom određenom testnom skupu podataka.\n",
        "- Da li je ovo zadovoljavajuća tačnost?\n",
        "  \n",
        "  Tačnost od 0.9777 može se smatrati vrlo visokom. U mnogim situacijama, tačnost od oko 98% bi bila zadovoljavajuća i sugerira da algoritam k-najbližih susjeda dobro generalizira na novim podacima.\n",
        "\n",
        "  \n",
        "- Da li je ovakav algoritam primjenjiv u\n",
        "stvarnom svijetu?\n",
        "\n",
        "  Algoritam k-najbližih susjeda može biti primjenjiv u stvarnom svijetu, ali njegova primjenjivost ovisi o specifičnosti problema I prirodi podataka."
      ],
      "metadata": {
        "id": "TYISoT_wfR0v"
      }
    },
    {
      "cell_type": "markdown",
      "source": [
        "e) Ponovite ovaj proces za nekoliko različitih vrijednosti k.\n",
        "- Da li se rezultat mijenja? Ako da, da li su drastične\n",
        "promjene, i koja je 'optimalna' vrijednost k?\n",
        "\n",
        "  Ako se proces ponovi za različite vrijednosti k, rezultat će se mijenjati. Za sve veće vrijednosti k procenat tačnosti opada.\n",
        "- Šta bi se desilo ukoliko bismo postavili da je vrijednost k jednaka\n",
        "broju uzoraka u testnom skupu podataka?\n",
        "\n",
        "  To bi značilo da se za klasifikaciju uzima cijeli testni skup kao najbliži susjed, što može dovesti do overfittinga."
      ],
      "metadata": {
        "id": "88GfaS1BSijn"
      }
    },
    {
      "cell_type": "markdown",
      "source": [
        "# Zadatak 4 - Duboko učenje"
      ],
      "metadata": {
        "id": "0WVcudZ_jkcu"
      }
    },
    {
      "cell_type": "markdown",
      "source": [
        "Duboko učenje ćemo demonstrirati na primjeru klasifikacije rukom pisanih cifara. Koristit ćemo MNIST skup podataka, koji sadrži 70000 slika u nijansama sive boje (eng. grayscale) dimenzija 28 × 28 podijeljenih u 10 različitih klasa (za svaku cifru po jedna)."
      ],
      "metadata": {
        "id": "GO820drboLw2"
      }
    },
    {
      "cell_type": "markdown",
      "source": [
        "a) Učitavanje podataka je prvi korak. Keras ovaj skup podataka ima spreman, te je on unaprijed podijeljen na\n",
        "trening i test skup. Učitavanje se može uraditi pomoću sljedećeg isječka koda:"
      ],
      "metadata": {
        "id": "6fuwB6OQoT8a"
      }
    },
    {
      "cell_type": "code",
      "source": [
        "from keras.datasets import mnist\n",
        "(x_train, y_train), (x_test, y_test) = mnist.load_data()\n",
        "\n",
        "print(y_test.shape) # broj u testnom skupu\n",
        "print(y_train.shape) #broj slika u trening skupu\n",
        "print(x_test.nbytes) # zauzimanje u memoriji\n",
        "print(x_train.nbytes) #zauzimanje u memoriji"
      ],
      "metadata": {
        "colab": {
          "base_uri": "https://localhost:8080/"
        },
        "id": "GTEV9_YHoY8l",
        "outputId": "8c366e99-7558-479f-81d5-89a0c4aeff3e"
      },
      "execution_count": null,
      "outputs": [
        {
          "output_type": "stream",
          "name": "stdout",
          "text": [
            "(10000,)\n",
            "(60000,)\n",
            "7840000\n",
            "47040000\n"
          ]
        }
      ]
    },
    {
      "cell_type": "markdown",
      "source": [
        "Koliko slika se nalazi u testnom skupu podataka, a koliko u trening skupu? Koji je oblik (shape) ovih\n",
        "varijabli? Koliko bajta zauzimaju u memoriji?\n",
        "\n",
        "Broj slika u testnom skupu podataka je 10000, dok je broj slika u trening skupu 60000.\n",
        "\n",
        "um jednodimenzionalni niz?\n",
        "\n",
        "Ukupna zauzeta memorija u bajtima za testni skup je 7840000 bajta, a za trening skup je 47040000 bajta."
      ],
      "metadata": {
        "id": "mJglonOooX1I"
      }
    },
    {
      "cell_type": "markdown",
      "source": [
        "Kako bi se ove slike mogle poslati u neuralnu mrežu, potrebno je iste prvo pretvoriti u brojeve u pokretnom\n",
        "zarezu, te ih svesti na opseg između 0 i 1. Obzirom da pikseli grayscale slika uzimaju vrijednosti između 0 i\n",
        "255, svođenje na traženi opseg se može uraditi prostim dijeljenjm sa 255. Sljedeći isječak koda demonstrira\n",
        "ovaj korak:"
      ],
      "metadata": {
        "id": "Az_qsLmFqKZS"
      }
    },
    {
      "cell_type": "code",
      "source": [
        "train_images = x_train.reshape((x_train.shape[0], 28 * 28))\n",
        "train_images = train_images.astype('float32') / 255\n",
        "\n",
        "test_images = x_test.reshape((x_test.shape[0], 28*28))\n",
        "test_images = test_images.astype('float32') / 255\n",
        "\n",
        "print(train_images.nbytes)\n",
        "print(test_images.nbytes)"
      ],
      "metadata": {
        "colab": {
          "base_uri": "https://localhost:8080/"
        },
        "id": "brxfwmVNqJ2A",
        "outputId": "80155149-13ed-4890-8a09-f81a3438dfe6"
      },
      "execution_count": null,
      "outputs": [
        {
          "output_type": "stream",
          "name": "stdout",
          "text": [
            "188160000\n",
            "31360000\n"
          ]
        }
      ]
    },
    {
      "cell_type": "markdown",
      "source": [
        "Šta radi naredba reshape, a šta astype? Koliko bajta u memoriji sada zauzimaju slike za testiranje i trening?\n",
        "\n",
        " Naredba reshape koristi se za promjenu oblika niza, odnosno transformira dimenzije niza dok zadržava isti broj elemenata. Na primjer, ako imamo sliku dimenzija 28x28 piksela, naredba reshape može transformirati ovu sliku u niz od 784 elemenata (28 * 28), što olakšava obradu podataka u neuronskoj mreži koja zahtijeva ulaz u obliku niza.\n",
        "\n",
        " Naredba astype se koristi za promjenu tipa podataka u nizu. U ovom slučaju, tip podataka se mijenja u 'float32'."
      ],
      "metadata": {
        "id": "NM47-tdAqtnd"
      }
    },
    {
      "cell_type": "markdown",
      "source": [
        "c) Nakon što su podaci spremni, može se napraviti jednostavan model duboke neuralne mreže. U tu svrhu, koristi se Keras. Prije svega je potrebno kreirati sam model, nakon čega se na isti dodaju slojevi različitog tipa:"
      ],
      "metadata": {
        "id": "RupXxX-PrlsK"
      }
    },
    {
      "cell_type": "code",
      "source": [
        "from keras import models\n",
        "from keras import layers\n",
        "network = models.Sequential()\n",
        "network.add(layers.Dense(512, activation=\"relu\", input_shape=(28 * 28,)))\n",
        "network.add(layers.Dense(10, activation=\"softmax\"))"
      ],
      "metadata": {
        "id": "EvtQSa4HrqZv"
      },
      "execution_count": null,
      "outputs": []
    },
    {
      "cell_type": "markdown",
      "source": [
        "Pokušajte istražiti Keras dokumentaciju, te se upoznati sa dense slojem. Koje sve parametre prima ovaj sloj? Na koji način je on povezan sa narednim slojem, te zašto za ove slojeve kažemo da su potpuno\n",
        "povezani?\n",
        "\n",
        "Parametri su : units (broj neurona u sloju), activation (aktivacijska funkcija koja se primjenjuje na izlaz sloja), input_shape (oblik ulaznih podataka), kernel_initializer i bias initializer (inicijalizacija težina i pristranosti), kernel_regularizer i bias regularizer (regularizacija težina i pristranosti). Ovaj sloj se još naziva i potpuno povezani\n",
        "sloj, jer su kod njega svi ulazi spojeni sa svim izlazima prethodnog sloja. Koristi se kada povezanost može postojati između bilo koje dva atributa.\n"
      ],
      "metadata": {
        "id": "arjq9xhqdXgx"
      }
    },
    {
      "cell_type": "markdown",
      "source": [
        "d) Kada je model definisan, on se mora pripremiti za treniranje. Kako bi to bilo moguće, model je prvo potrebno\n",
        "kompajlirati. Kompajliranje modela se sastoji od odabira tri parametra:\n",
        "- Funkcije gubitka (eng. loss function) - Označava kako neuralna mreža može mjeriti svoje performanse\n",
        "nad trening skupom, te se na osnovu nje prilagođava prilikom procesa treniranja;\n",
        "- Optimizator (eng. optimizer ) - Mehanizam na osnovu kojeg se neuralna mreža aktualizira;\n",
        "- Metrike koje treba pratiti prilikom treniranja i testiranja U ovom slučaju nas zanima samo tačnost (eng.\n",
        "accuracy). Za različite zadatke dubokog učenja su razvijene i različite metrike uspjeha.\n",
        "\n",
        "Kompajliranje modela se vrši pomoću sljedećeg isječka koda:"
      ],
      "metadata": {
        "id": "7vAWtktMrxwr"
      }
    },
    {
      "cell_type": "code",
      "source": [
        "network.compile(optimizer=\"rmsprop\",loss=\"categorical_crossentropy\",metrics=[\"accuracy\"])"
      ],
      "metadata": {
        "id": "b1n3evwErxY5"
      },
      "execution_count": null,
      "outputs": []
    },
    {
      "cell_type": "markdown",
      "source": [
        "e) U prethodnom koraku smo rekli da je izlaz iz neuralne mreže zapravo niz od 10 elemenata.\n",
        "Shodno tome, moramo labele prilagoditi izlazu, na način da izvršimo one-hot kodiranje istih.\n",
        "Kodiranje podrazumijeva pretvaranje labele iz konkretne vrijednosti u niz od n elemenata gdje su\n",
        "svi elementi nula, osim elementa na indeksu koji odgovara tačnoj klasi. Primjer one-hot kodiranja je\n",
        "dat u nastavku: 3 → [0, 0, 0, 1, 0, 0, 0, 0, 0, 0] Kako bi se ovo postiglo u Python-u, može se koristiti\n",
        "gotova funkcija koju pruža Keras, kao što je prikazano u nastavku:"
      ],
      "metadata": {
        "id": "fpOIdFS8sHV6"
      }
    },
    {
      "cell_type": "code",
      "source": [
        "from keras.utils import to_categorical\n",
        "train_labels = to_categorical(y_train)\n",
        "test_labels = to_categorical(y_test)"
      ],
      "metadata": {
        "id": "oPWmZFp3sHF2"
      },
      "execution_count": null,
      "outputs": []
    },
    {
      "cell_type": "markdown",
      "source": [
        "Koristi se za pretvaranje vektora klasa (integer vrijednosti) u binarnu matricu klasa. Funkcija to_categorical ima sljedeće parametre:\n",
        "\n",
        "y: Lista ili niz koji predstavlja vektor klasa koji želimo pretvoriti u binarnu matricu.\n",
        "\n",
        "num_classes: Opcionalni parametar koji predstavlja ukupan broj klasa. Ako nije naveden, TensorFlow će automatski odrediti broj klasa na temelju najveće vrijednosti u vektoru y i dodati jedan.\n",
        "\n",
        "dtype: Opcionalni parametar koji predstavlja očekivani tip podataka u rezultirajućoj binarnoj matrici. Zadana vrijednost je 'float32'."
      ],
      "metadata": {
        "id": "WxHQHnxtskbM"
      }
    },
    {
      "cell_type": "markdown",
      "source": [
        "f) Sada je sve spremno da se mreža trenira. Treniranje je izuzetno jednostavno, te se obavlja\n",
        "pomoću jedne linije koda:"
      ],
      "metadata": {
        "id": "LrTRLa3qsyd0"
      }
    },
    {
      "cell_type": "code",
      "source": [
        "network.fit(train_images, train_labels, epochs=5, batch_size=128)"
      ],
      "metadata": {
        "colab": {
          "base_uri": "https://localhost:8080/"
        },
        "id": "EmnWNH4js1uZ",
        "outputId": "1a0a37c8-8493-4058-9fe2-e01c0bedac81"
      },
      "execution_count": null,
      "outputs": [
        {
          "output_type": "stream",
          "name": "stdout",
          "text": [
            "Epoch 1/5\n",
            "469/469 [==============================] - 7s 12ms/step - loss: 0.2675 - accuracy: 0.9223\n",
            "Epoch 2/5\n",
            "469/469 [==============================] - 5s 12ms/step - loss: 0.1065 - accuracy: 0.9681\n",
            "Epoch 3/5\n",
            "469/469 [==============================] - 4s 9ms/step - loss: 0.0702 - accuracy: 0.9793\n",
            "Epoch 4/5\n",
            "469/469 [==============================] - 5s 11ms/step - loss: 0.0508 - accuracy: 0.9849\n",
            "Epoch 5/5\n",
            "469/469 [==============================] - 5s 10ms/step - loss: 0.0386 - accuracy: 0.9885\n"
          ]
        },
        {
          "output_type": "execute_result",
          "data": {
            "text/plain": [
              "<keras.src.callbacks.History at 0x7eedd9ab5e70>"
            ]
          },
          "metadata": {},
          "execution_count": 42
        }
      ]
    },
    {
      "cell_type": "markdown",
      "source": [
        "epochs: Predstavlja koliko puta će cijeli trening skup podataka proći kroz neuronsku mrežu tokom procesa učenja. Jedna epoha znači da su svi podaci prošli kroz mrežu jednom. Povećanje broja epoha može pomoći mreži da bolje nauči obrazce u podacima, ali može dovesti i do overfittinga.\n",
        "\n",
        "batch_size: Označava broj uzoraka podataka koji će biti proslijeđeni kroz mrežu prije nego što se ažuriraju parametri mreže (težine). Manji batch_size može rezultirati bržim učenjem, ali može biti i manje stabilan. Veći batch_size obično rezultira stabilnijim, ali sporijim učenjem."
      ],
      "metadata": {
        "id": "9I-wW-katfEA"
      }
    },
    {
      "cell_type": "markdown",
      "source": [
        "g) Nakon što se treniranje završi, može se izvršiti evaluacija nad testnim skupom podataka:"
      ],
      "metadata": {
        "id": "CD9khKWBtASa"
      }
    },
    {
      "cell_type": "code",
      "source": [
        "test_loss, test_acc = network.evaluate(test_images, test_labels)\n",
        "print(\"Tacnost za testni skup:\", test_acc)\n",
        "train_loss, train_acc = network.evaluate(train_images, train_labels)\n",
        "print(\"Tacnost za trening skup:\", test_acc)"
      ],
      "metadata": {
        "colab": {
          "base_uri": "https://localhost:8080/"
        },
        "id": "8E9U2KJdtDsf",
        "outputId": "c228ae63-237f-41a0-c7cb-1f616a864dd8"
      },
      "execution_count": null,
      "outputs": [
        {
          "output_type": "stream",
          "name": "stdout",
          "text": [
            "313/313 [==============================] - 1s 4ms/step - loss: 0.0607 - accuracy: 0.9812\n",
            "Tacnost za testni skup: 0.9811999797821045\n",
            "1875/1875 [==============================] - 6s 3ms/step - loss: 0.0239 - accuracy: 0.9936\n",
            "Tacnost za trening skup: 0.9811999797821045\n"
          ]
        }
      ]
    },
    {
      "cell_type": "markdown",
      "source": [
        "Kolika je tačnost nad testnim skupom podataka? Da li se drastično razlikuje od tačnosti nad trening\n",
        "skupom? Da li je ovo zadovoljavajući rezultat? Zašto jeste/nije?"
      ],
      "metadata": {
        "id": "paiWfx95tCdy"
      }
    },
    {
      "cell_type": "markdown",
      "source": [
        "Rezultati su dati iznad. Nema drastične razlike, vjerujem da je rezultat zadovoljavajući, ali s obzirom da je tačnost za trening skup veća nego tačnost za testni skup, moguće da je došlo do nekog stepena overfittanja."
      ],
      "metadata": {
        "id": "2FPzU7-dt35T"
      }
    },
    {
      "cell_type": "markdown",
      "source": [
        "# Zadatak 1 - Binarna klasifikacija - Klasifikacija vina"
      ],
      "metadata": {
        "id": "G3q5RLPevdYN"
      }
    },
    {
      "cell_type": "markdown",
      "source": [
        "U ovom zadatku se radi najjednostavniji oblik klasifikacije, a to je binarna klasifikacija na osnovu numeričkih podataka u vidu tekstualne datoteke. Cilj ovog zadatka je da se napravi i istrenira neuronska mreža koja će klasificirati vino na osnovu raznih karakteristika kao crno ili bijelo. Skup podataka se sastoji iz dvije datoteke, jedne za crna vina i druge za bijela."
      ],
      "metadata": {
        "id": "wt8ITy6l0cwS"
      }
    },
    {
      "cell_type": "markdown",
      "source": [
        "a) Učitati podatke za crno i bijelo vino koji se nalaze u CSV datotekama winequality-red.csv i winequality-white.csv\n",
        "u varijable red i white respektivno. Pri ovome postaviti parametar separator da bude znak tačka-zarez\n",
        "(;). U odgovarajućim DataFrame objektima dodati novu kolonu label koja će imati vrijednost 0 za podatke\n",
        "bijelog vina, a vrijednost 1 za podatke crnog vina. Nakon ovoga spojiti ih u jedan DataFrame objekat wines."
      ],
      "metadata": {
        "id": "3V8MNY960jTF"
      }
    },
    {
      "cell_type": "code",
      "source": [
        "import numpy as np\n",
        "import pandas as pd\n",
        "white = pd.read_csv('winequality-white.csv',sep=';')\n",
        "red = pd.read_csv('winequality-red.csv',sep=';')\n",
        "white[\"label\"] = 0\n",
        "red[\"label\"] = 1\n",
        "wines = pd.concat([red, white], ignore_index=True)\n",
        "wines"
      ],
      "metadata": {
        "colab": {
          "base_uri": "https://localhost:8080/",
          "height": 478
        },
        "id": "A8-mvwmPqg5G",
        "outputId": "ed345f84-34c2-48aa-ab75-d2703b7b7f65"
      },
      "execution_count": null,
      "outputs": [
        {
          "output_type": "execute_result",
          "data": {
            "text/plain": [
              "      fixed acidity  volatile acidity  citric acid  residual sugar  chlorides  \\\n",
              "0               7.4              0.70         0.00             1.9      0.076   \n",
              "1               7.8              0.88         0.00             2.6      0.098   \n",
              "2               7.8              0.76         0.04             2.3      0.092   \n",
              "3              11.2              0.28         0.56             1.9      0.075   \n",
              "4               7.4              0.70         0.00             1.9      0.076   \n",
              "...             ...               ...          ...             ...        ...   \n",
              "6492            6.2              0.21         0.29             1.6      0.039   \n",
              "6493            6.6              0.32         0.36             8.0      0.047   \n",
              "6494            6.5              0.24         0.19             1.2      0.041   \n",
              "6495            5.5              0.29         0.30             1.1      0.022   \n",
              "6496            6.0              0.21         0.38             0.8      0.020   \n",
              "\n",
              "      free sulfur dioxide  total sulfur dioxide  density    pH  sulphates  \\\n",
              "0                    11.0                  34.0  0.99780  3.51       0.56   \n",
              "1                    25.0                  67.0  0.99680  3.20       0.68   \n",
              "2                    15.0                  54.0  0.99700  3.26       0.65   \n",
              "3                    17.0                  60.0  0.99800  3.16       0.58   \n",
              "4                    11.0                  34.0  0.99780  3.51       0.56   \n",
              "...                   ...                   ...      ...   ...        ...   \n",
              "6492                 24.0                  92.0  0.99114  3.27       0.50   \n",
              "6493                 57.0                 168.0  0.99490  3.15       0.46   \n",
              "6494                 30.0                 111.0  0.99254  2.99       0.46   \n",
              "6495                 20.0                 110.0  0.98869  3.34       0.38   \n",
              "6496                 22.0                  98.0  0.98941  3.26       0.32   \n",
              "\n",
              "      alcohol  quality  label  \n",
              "0         9.4        5      1  \n",
              "1         9.8        5      1  \n",
              "2         9.8        5      1  \n",
              "3         9.8        6      1  \n",
              "4         9.4        5      1  \n",
              "...       ...      ...    ...  \n",
              "6492     11.2        6      0  \n",
              "6493      9.6        5      0  \n",
              "6494      9.4        6      0  \n",
              "6495     12.8        7      0  \n",
              "6496     11.8        6      0  \n",
              "\n",
              "[6497 rows x 13 columns]"
            ],
            "text/html": [
              "\n",
              "  <div id=\"df-3ce02cb6-0149-4449-835c-4132e45ce2b5\" class=\"colab-df-container\">\n",
              "    <div>\n",
              "<style scoped>\n",
              "    .dataframe tbody tr th:only-of-type {\n",
              "        vertical-align: middle;\n",
              "    }\n",
              "\n",
              "    .dataframe tbody tr th {\n",
              "        vertical-align: top;\n",
              "    }\n",
              "\n",
              "    .dataframe thead th {\n",
              "        text-align: right;\n",
              "    }\n",
              "</style>\n",
              "<table border=\"1\" class=\"dataframe\">\n",
              "  <thead>\n",
              "    <tr style=\"text-align: right;\">\n",
              "      <th></th>\n",
              "      <th>fixed acidity</th>\n",
              "      <th>volatile acidity</th>\n",
              "      <th>citric acid</th>\n",
              "      <th>residual sugar</th>\n",
              "      <th>chlorides</th>\n",
              "      <th>free sulfur dioxide</th>\n",
              "      <th>total sulfur dioxide</th>\n",
              "      <th>density</th>\n",
              "      <th>pH</th>\n",
              "      <th>sulphates</th>\n",
              "      <th>alcohol</th>\n",
              "      <th>quality</th>\n",
              "      <th>label</th>\n",
              "    </tr>\n",
              "  </thead>\n",
              "  <tbody>\n",
              "    <tr>\n",
              "      <th>0</th>\n",
              "      <td>7.4</td>\n",
              "      <td>0.70</td>\n",
              "      <td>0.00</td>\n",
              "      <td>1.9</td>\n",
              "      <td>0.076</td>\n",
              "      <td>11.0</td>\n",
              "      <td>34.0</td>\n",
              "      <td>0.99780</td>\n",
              "      <td>3.51</td>\n",
              "      <td>0.56</td>\n",
              "      <td>9.4</td>\n",
              "      <td>5</td>\n",
              "      <td>1</td>\n",
              "    </tr>\n",
              "    <tr>\n",
              "      <th>1</th>\n",
              "      <td>7.8</td>\n",
              "      <td>0.88</td>\n",
              "      <td>0.00</td>\n",
              "      <td>2.6</td>\n",
              "      <td>0.098</td>\n",
              "      <td>25.0</td>\n",
              "      <td>67.0</td>\n",
              "      <td>0.99680</td>\n",
              "      <td>3.20</td>\n",
              "      <td>0.68</td>\n",
              "      <td>9.8</td>\n",
              "      <td>5</td>\n",
              "      <td>1</td>\n",
              "    </tr>\n",
              "    <tr>\n",
              "      <th>2</th>\n",
              "      <td>7.8</td>\n",
              "      <td>0.76</td>\n",
              "      <td>0.04</td>\n",
              "      <td>2.3</td>\n",
              "      <td>0.092</td>\n",
              "      <td>15.0</td>\n",
              "      <td>54.0</td>\n",
              "      <td>0.99700</td>\n",
              "      <td>3.26</td>\n",
              "      <td>0.65</td>\n",
              "      <td>9.8</td>\n",
              "      <td>5</td>\n",
              "      <td>1</td>\n",
              "    </tr>\n",
              "    <tr>\n",
              "      <th>3</th>\n",
              "      <td>11.2</td>\n",
              "      <td>0.28</td>\n",
              "      <td>0.56</td>\n",
              "      <td>1.9</td>\n",
              "      <td>0.075</td>\n",
              "      <td>17.0</td>\n",
              "      <td>60.0</td>\n",
              "      <td>0.99800</td>\n",
              "      <td>3.16</td>\n",
              "      <td>0.58</td>\n",
              "      <td>9.8</td>\n",
              "      <td>6</td>\n",
              "      <td>1</td>\n",
              "    </tr>\n",
              "    <tr>\n",
              "      <th>4</th>\n",
              "      <td>7.4</td>\n",
              "      <td>0.70</td>\n",
              "      <td>0.00</td>\n",
              "      <td>1.9</td>\n",
              "      <td>0.076</td>\n",
              "      <td>11.0</td>\n",
              "      <td>34.0</td>\n",
              "      <td>0.99780</td>\n",
              "      <td>3.51</td>\n",
              "      <td>0.56</td>\n",
              "      <td>9.4</td>\n",
              "      <td>5</td>\n",
              "      <td>1</td>\n",
              "    </tr>\n",
              "    <tr>\n",
              "      <th>...</th>\n",
              "      <td>...</td>\n",
              "      <td>...</td>\n",
              "      <td>...</td>\n",
              "      <td>...</td>\n",
              "      <td>...</td>\n",
              "      <td>...</td>\n",
              "      <td>...</td>\n",
              "      <td>...</td>\n",
              "      <td>...</td>\n",
              "      <td>...</td>\n",
              "      <td>...</td>\n",
              "      <td>...</td>\n",
              "      <td>...</td>\n",
              "    </tr>\n",
              "    <tr>\n",
              "      <th>6492</th>\n",
              "      <td>6.2</td>\n",
              "      <td>0.21</td>\n",
              "      <td>0.29</td>\n",
              "      <td>1.6</td>\n",
              "      <td>0.039</td>\n",
              "      <td>24.0</td>\n",
              "      <td>92.0</td>\n",
              "      <td>0.99114</td>\n",
              "      <td>3.27</td>\n",
              "      <td>0.50</td>\n",
              "      <td>11.2</td>\n",
              "      <td>6</td>\n",
              "      <td>0</td>\n",
              "    </tr>\n",
              "    <tr>\n",
              "      <th>6493</th>\n",
              "      <td>6.6</td>\n",
              "      <td>0.32</td>\n",
              "      <td>0.36</td>\n",
              "      <td>8.0</td>\n",
              "      <td>0.047</td>\n",
              "      <td>57.0</td>\n",
              "      <td>168.0</td>\n",
              "      <td>0.99490</td>\n",
              "      <td>3.15</td>\n",
              "      <td>0.46</td>\n",
              "      <td>9.6</td>\n",
              "      <td>5</td>\n",
              "      <td>0</td>\n",
              "    </tr>\n",
              "    <tr>\n",
              "      <th>6494</th>\n",
              "      <td>6.5</td>\n",
              "      <td>0.24</td>\n",
              "      <td>0.19</td>\n",
              "      <td>1.2</td>\n",
              "      <td>0.041</td>\n",
              "      <td>30.0</td>\n",
              "      <td>111.0</td>\n",
              "      <td>0.99254</td>\n",
              "      <td>2.99</td>\n",
              "      <td>0.46</td>\n",
              "      <td>9.4</td>\n",
              "      <td>6</td>\n",
              "      <td>0</td>\n",
              "    </tr>\n",
              "    <tr>\n",
              "      <th>6495</th>\n",
              "      <td>5.5</td>\n",
              "      <td>0.29</td>\n",
              "      <td>0.30</td>\n",
              "      <td>1.1</td>\n",
              "      <td>0.022</td>\n",
              "      <td>20.0</td>\n",
              "      <td>110.0</td>\n",
              "      <td>0.98869</td>\n",
              "      <td>3.34</td>\n",
              "      <td>0.38</td>\n",
              "      <td>12.8</td>\n",
              "      <td>7</td>\n",
              "      <td>0</td>\n",
              "    </tr>\n",
              "    <tr>\n",
              "      <th>6496</th>\n",
              "      <td>6.0</td>\n",
              "      <td>0.21</td>\n",
              "      <td>0.38</td>\n",
              "      <td>0.8</td>\n",
              "      <td>0.020</td>\n",
              "      <td>22.0</td>\n",
              "      <td>98.0</td>\n",
              "      <td>0.98941</td>\n",
              "      <td>3.26</td>\n",
              "      <td>0.32</td>\n",
              "      <td>11.8</td>\n",
              "      <td>6</td>\n",
              "      <td>0</td>\n",
              "    </tr>\n",
              "  </tbody>\n",
              "</table>\n",
              "<p>6497 rows × 13 columns</p>\n",
              "</div>\n",
              "    <div class=\"colab-df-buttons\">\n",
              "\n",
              "  <div class=\"colab-df-container\">\n",
              "    <button class=\"colab-df-convert\" onclick=\"convertToInteractive('df-3ce02cb6-0149-4449-835c-4132e45ce2b5')\"\n",
              "            title=\"Convert this dataframe to an interactive table.\"\n",
              "            style=\"display:none;\">\n",
              "\n",
              "  <svg xmlns=\"http://www.w3.org/2000/svg\" height=\"24px\" viewBox=\"0 -960 960 960\">\n",
              "    <path d=\"M120-120v-720h720v720H120Zm60-500h600v-160H180v160Zm220 220h160v-160H400v160Zm0 220h160v-160H400v160ZM180-400h160v-160H180v160Zm440 0h160v-160H620v160ZM180-180h160v-160H180v160Zm440 0h160v-160H620v160Z\"/>\n",
              "  </svg>\n",
              "    </button>\n",
              "\n",
              "  <style>\n",
              "    .colab-df-container {\n",
              "      display:flex;\n",
              "      gap: 12px;\n",
              "    }\n",
              "\n",
              "    .colab-df-convert {\n",
              "      background-color: #E8F0FE;\n",
              "      border: none;\n",
              "      border-radius: 50%;\n",
              "      cursor: pointer;\n",
              "      display: none;\n",
              "      fill: #1967D2;\n",
              "      height: 32px;\n",
              "      padding: 0 0 0 0;\n",
              "      width: 32px;\n",
              "    }\n",
              "\n",
              "    .colab-df-convert:hover {\n",
              "      background-color: #E2EBFA;\n",
              "      box-shadow: 0px 1px 2px rgba(60, 64, 67, 0.3), 0px 1px 3px 1px rgba(60, 64, 67, 0.15);\n",
              "      fill: #174EA6;\n",
              "    }\n",
              "\n",
              "    .colab-df-buttons div {\n",
              "      margin-bottom: 4px;\n",
              "    }\n",
              "\n",
              "    [theme=dark] .colab-df-convert {\n",
              "      background-color: #3B4455;\n",
              "      fill: #D2E3FC;\n",
              "    }\n",
              "\n",
              "    [theme=dark] .colab-df-convert:hover {\n",
              "      background-color: #434B5C;\n",
              "      box-shadow: 0px 1px 3px 1px rgba(0, 0, 0, 0.15);\n",
              "      filter: drop-shadow(0px 1px 2px rgba(0, 0, 0, 0.3));\n",
              "      fill: #FFFFFF;\n",
              "    }\n",
              "  </style>\n",
              "\n",
              "    <script>\n",
              "      const buttonEl =\n",
              "        document.querySelector('#df-3ce02cb6-0149-4449-835c-4132e45ce2b5 button.colab-df-convert');\n",
              "      buttonEl.style.display =\n",
              "        google.colab.kernel.accessAllowed ? 'block' : 'none';\n",
              "\n",
              "      async function convertToInteractive(key) {\n",
              "        const element = document.querySelector('#df-3ce02cb6-0149-4449-835c-4132e45ce2b5');\n",
              "        const dataTable =\n",
              "          await google.colab.kernel.invokeFunction('convertToInteractive',\n",
              "                                                    [key], {});\n",
              "        if (!dataTable) return;\n",
              "\n",
              "        const docLinkHtml = 'Like what you see? Visit the ' +\n",
              "          '<a target=\"_blank\" href=https://colab.research.google.com/notebooks/data_table.ipynb>data table notebook</a>'\n",
              "          + ' to learn more about interactive tables.';\n",
              "        element.innerHTML = '';\n",
              "        dataTable['output_type'] = 'display_data';\n",
              "        await google.colab.output.renderOutput(dataTable, element);\n",
              "        const docLink = document.createElement('div');\n",
              "        docLink.innerHTML = docLinkHtml;\n",
              "        element.appendChild(docLink);\n",
              "      }\n",
              "    </script>\n",
              "  </div>\n",
              "\n",
              "\n",
              "<div id=\"df-961aa36b-1c9c-4eb6-afad-9ca466c573b5\">\n",
              "  <button class=\"colab-df-quickchart\" onclick=\"quickchart('df-961aa36b-1c9c-4eb6-afad-9ca466c573b5')\"\n",
              "            title=\"Suggest charts\"\n",
              "            style=\"display:none;\">\n",
              "\n",
              "<svg xmlns=\"http://www.w3.org/2000/svg\" height=\"24px\"viewBox=\"0 0 24 24\"\n",
              "     width=\"24px\">\n",
              "    <g>\n",
              "        <path d=\"M19 3H5c-1.1 0-2 .9-2 2v14c0 1.1.9 2 2 2h14c1.1 0 2-.9 2-2V5c0-1.1-.9-2-2-2zM9 17H7v-7h2v7zm4 0h-2V7h2v10zm4 0h-2v-4h2v4z\"/>\n",
              "    </g>\n",
              "</svg>\n",
              "  </button>\n",
              "\n",
              "<style>\n",
              "  .colab-df-quickchart {\n",
              "      --bg-color: #E8F0FE;\n",
              "      --fill-color: #1967D2;\n",
              "      --hover-bg-color: #E2EBFA;\n",
              "      --hover-fill-color: #174EA6;\n",
              "      --disabled-fill-color: #AAA;\n",
              "      --disabled-bg-color: #DDD;\n",
              "  }\n",
              "\n",
              "  [theme=dark] .colab-df-quickchart {\n",
              "      --bg-color: #3B4455;\n",
              "      --fill-color: #D2E3FC;\n",
              "      --hover-bg-color: #434B5C;\n",
              "      --hover-fill-color: #FFFFFF;\n",
              "      --disabled-bg-color: #3B4455;\n",
              "      --disabled-fill-color: #666;\n",
              "  }\n",
              "\n",
              "  .colab-df-quickchart {\n",
              "    background-color: var(--bg-color);\n",
              "    border: none;\n",
              "    border-radius: 50%;\n",
              "    cursor: pointer;\n",
              "    display: none;\n",
              "    fill: var(--fill-color);\n",
              "    height: 32px;\n",
              "    padding: 0;\n",
              "    width: 32px;\n",
              "  }\n",
              "\n",
              "  .colab-df-quickchart:hover {\n",
              "    background-color: var(--hover-bg-color);\n",
              "    box-shadow: 0 1px 2px rgba(60, 64, 67, 0.3), 0 1px 3px 1px rgba(60, 64, 67, 0.15);\n",
              "    fill: var(--button-hover-fill-color);\n",
              "  }\n",
              "\n",
              "  .colab-df-quickchart-complete:disabled,\n",
              "  .colab-df-quickchart-complete:disabled:hover {\n",
              "    background-color: var(--disabled-bg-color);\n",
              "    fill: var(--disabled-fill-color);\n",
              "    box-shadow: none;\n",
              "  }\n",
              "\n",
              "  .colab-df-spinner {\n",
              "    border: 2px solid var(--fill-color);\n",
              "    border-color: transparent;\n",
              "    border-bottom-color: var(--fill-color);\n",
              "    animation:\n",
              "      spin 1s steps(1) infinite;\n",
              "  }\n",
              "\n",
              "  @keyframes spin {\n",
              "    0% {\n",
              "      border-color: transparent;\n",
              "      border-bottom-color: var(--fill-color);\n",
              "      border-left-color: var(--fill-color);\n",
              "    }\n",
              "    20% {\n",
              "      border-color: transparent;\n",
              "      border-left-color: var(--fill-color);\n",
              "      border-top-color: var(--fill-color);\n",
              "    }\n",
              "    30% {\n",
              "      border-color: transparent;\n",
              "      border-left-color: var(--fill-color);\n",
              "      border-top-color: var(--fill-color);\n",
              "      border-right-color: var(--fill-color);\n",
              "    }\n",
              "    40% {\n",
              "      border-color: transparent;\n",
              "      border-right-color: var(--fill-color);\n",
              "      border-top-color: var(--fill-color);\n",
              "    }\n",
              "    60% {\n",
              "      border-color: transparent;\n",
              "      border-right-color: var(--fill-color);\n",
              "    }\n",
              "    80% {\n",
              "      border-color: transparent;\n",
              "      border-right-color: var(--fill-color);\n",
              "      border-bottom-color: var(--fill-color);\n",
              "    }\n",
              "    90% {\n",
              "      border-color: transparent;\n",
              "      border-bottom-color: var(--fill-color);\n",
              "    }\n",
              "  }\n",
              "</style>\n",
              "\n",
              "  <script>\n",
              "    async function quickchart(key) {\n",
              "      const quickchartButtonEl =\n",
              "        document.querySelector('#' + key + ' button');\n",
              "      quickchartButtonEl.disabled = true;  // To prevent multiple clicks.\n",
              "      quickchartButtonEl.classList.add('colab-df-spinner');\n",
              "      try {\n",
              "        const charts = await google.colab.kernel.invokeFunction(\n",
              "            'suggestCharts', [key], {});\n",
              "      } catch (error) {\n",
              "        console.error('Error during call to suggestCharts:', error);\n",
              "      }\n",
              "      quickchartButtonEl.classList.remove('colab-df-spinner');\n",
              "      quickchartButtonEl.classList.add('colab-df-quickchart-complete');\n",
              "    }\n",
              "    (() => {\n",
              "      let quickchartButtonEl =\n",
              "        document.querySelector('#df-961aa36b-1c9c-4eb6-afad-9ca466c573b5 button');\n",
              "      quickchartButtonEl.style.display =\n",
              "        google.colab.kernel.accessAllowed ? 'block' : 'none';\n",
              "    })();\n",
              "  </script>\n",
              "</div>\n",
              "    </div>\n",
              "  </div>\n"
            ],
            "application/vnd.google.colaboratory.intrinsic+json": {
              "type": "dataframe",
              "variable_name": "wines",
              "summary": "{\n  \"name\": \"wines\",\n  \"rows\": 6497,\n  \"fields\": [\n    {\n      \"column\": \"fixed acidity\",\n      \"properties\": {\n        \"dtype\": \"number\",\n        \"std\": 1.2964337577998153,\n        \"min\": 3.8,\n        \"max\": 15.9,\n        \"num_unique_values\": 106,\n        \"samples\": [\n          7.15,\n          8.1,\n          7.3\n        ],\n        \"semantic_type\": \"\",\n        \"description\": \"\"\n      }\n    },\n    {\n      \"column\": \"volatile acidity\",\n      \"properties\": {\n        \"dtype\": \"number\",\n        \"std\": 0.16463647408467877,\n        \"min\": 0.08,\n        \"max\": 1.58,\n        \"num_unique_values\": 187,\n        \"samples\": [\n          0.405,\n          0.21,\n          0.695\n        ],\n        \"semantic_type\": \"\",\n        \"description\": \"\"\n      }\n    },\n    {\n      \"column\": \"citric acid\",\n      \"properties\": {\n        \"dtype\": \"number\",\n        \"std\": 0.14531786489759155,\n        \"min\": 0.0,\n        \"max\": 1.66,\n        \"num_unique_values\": 89,\n        \"samples\": [\n          0.1,\n          0.6,\n          0.37\n        ],\n        \"semantic_type\": \"\",\n        \"description\": \"\"\n      }\n    },\n    {\n      \"column\": \"residual sugar\",\n      \"properties\": {\n        \"dtype\": \"number\",\n        \"std\": 4.757803743147418,\n        \"min\": 0.6,\n        \"max\": 65.8,\n        \"num_unique_values\": 316,\n        \"samples\": [\n          18.95,\n          3.2,\n          9.3\n        ],\n        \"semantic_type\": \"\",\n        \"description\": \"\"\n      }\n    },\n    {\n      \"column\": \"chlorides\",\n      \"properties\": {\n        \"dtype\": \"number\",\n        \"std\": 0.03503360137245907,\n        \"min\": 0.009,\n        \"max\": 0.611,\n        \"num_unique_values\": 214,\n        \"samples\": [\n          0.089,\n          0.217,\n          0.1\n        ],\n        \"semantic_type\": \"\",\n        \"description\": \"\"\n      }\n    },\n    {\n      \"column\": \"free sulfur dioxide\",\n      \"properties\": {\n        \"dtype\": \"number\",\n        \"std\": 17.7493997720025,\n        \"min\": 1.0,\n        \"max\": 289.0,\n        \"num_unique_values\": 135,\n        \"samples\": [\n          77.5,\n          65.0,\n          128.0\n        ],\n        \"semantic_type\": \"\",\n        \"description\": \"\"\n      }\n    },\n    {\n      \"column\": \"total sulfur dioxide\",\n      \"properties\": {\n        \"dtype\": \"number\",\n        \"std\": 56.521854522630285,\n        \"min\": 6.0,\n        \"max\": 440.0,\n        \"num_unique_values\": 276,\n        \"samples\": [\n          14.0,\n          149.0,\n          227.0\n        ],\n        \"semantic_type\": \"\",\n        \"description\": \"\"\n      }\n    },\n    {\n      \"column\": \"density\",\n      \"properties\": {\n        \"dtype\": \"number\",\n        \"std\": 0.0029986730037190393,\n        \"min\": 0.98711,\n        \"max\": 1.03898,\n        \"num_unique_values\": 998,\n        \"samples\": [\n          0.9918,\n          0.99412,\n          0.99484\n        ],\n        \"semantic_type\": \"\",\n        \"description\": \"\"\n      }\n    },\n    {\n      \"column\": \"pH\",\n      \"properties\": {\n        \"dtype\": \"number\",\n        \"std\": 0.16078720210398764,\n        \"min\": 2.72,\n        \"max\": 4.01,\n        \"num_unique_values\": 108,\n        \"samples\": [\n          3.74,\n          3.17,\n          3.3\n        ],\n        \"semantic_type\": \"\",\n        \"description\": \"\"\n      }\n    },\n    {\n      \"column\": \"sulphates\",\n      \"properties\": {\n        \"dtype\": \"number\",\n        \"std\": 0.14880587361449027,\n        \"min\": 0.22,\n        \"max\": 2.0,\n        \"num_unique_values\": 111,\n        \"samples\": [\n          1.11,\n          1.56,\n          0.46\n        ],\n        \"semantic_type\": \"\",\n        \"description\": \"\"\n      }\n    },\n    {\n      \"column\": \"alcohol\",\n      \"properties\": {\n        \"dtype\": \"number\",\n        \"std\": 1.192711748870993,\n        \"min\": 8.0,\n        \"max\": 14.9,\n        \"num_unique_values\": 111,\n        \"samples\": [\n          10.9333333333333,\n          9.7,\n          10.5\n        ],\n        \"semantic_type\": \"\",\n        \"description\": \"\"\n      }\n    },\n    {\n      \"column\": \"quality\",\n      \"properties\": {\n        \"dtype\": \"number\",\n        \"std\": 0,\n        \"min\": 3,\n        \"max\": 9,\n        \"num_unique_values\": 7,\n        \"samples\": [\n          5,\n          6,\n          3\n        ],\n        \"semantic_type\": \"\",\n        \"description\": \"\"\n      }\n    },\n    {\n      \"column\": \"label\",\n      \"properties\": {\n        \"dtype\": \"number\",\n        \"std\": 0,\n        \"min\": 0,\n        \"max\": 1,\n        \"num_unique_values\": 2,\n        \"samples\": [\n          0,\n          1\n        ],\n        \"semantic_type\": \"\",\n        \"description\": \"\"\n      }\n    }\n  ]\n}"
            }
          },
          "metadata": {},
          "execution_count": 44
        }
      ]
    },
    {
      "cell_type": "markdown",
      "source": [
        "b) Izvršiti prikaz osnovnih podataka spojenog skupa podataka korištenjem describe metode te nacrtati histograme korištenjem hist metode. Šta možete zaključiti o podacima?"
      ],
      "metadata": {
        "id": "FlWQV30T0kUv"
      }
    },
    {
      "cell_type": "code",
      "source": [
        "wines.describe()"
      ],
      "metadata": {
        "colab": {
          "base_uri": "https://localhost:8080/",
          "height": 355
        },
        "id": "bi7QwQqHvHI0",
        "outputId": "8a1c7e50-2ab1-4947-9611-7cdeae1ea9b4"
      },
      "execution_count": null,
      "outputs": [
        {
          "output_type": "execute_result",
          "data": {
            "text/plain": [
              "       fixed acidity  volatile acidity  citric acid  residual sugar  \\\n",
              "count    6497.000000       6497.000000  6497.000000     6497.000000   \n",
              "mean        7.215307          0.339666     0.318633        5.443235   \n",
              "std         1.296434          0.164636     0.145318        4.757804   \n",
              "min         3.800000          0.080000     0.000000        0.600000   \n",
              "25%         6.400000          0.230000     0.250000        1.800000   \n",
              "50%         7.000000          0.290000     0.310000        3.000000   \n",
              "75%         7.700000          0.400000     0.390000        8.100000   \n",
              "max        15.900000          1.580000     1.660000       65.800000   \n",
              "\n",
              "         chlorides  free sulfur dioxide  total sulfur dioxide      density  \\\n",
              "count  6497.000000          6497.000000           6497.000000  6497.000000   \n",
              "mean      0.056034            30.525319            115.744574     0.994697   \n",
              "std       0.035034            17.749400             56.521855     0.002999   \n",
              "min       0.009000             1.000000              6.000000     0.987110   \n",
              "25%       0.038000            17.000000             77.000000     0.992340   \n",
              "50%       0.047000            29.000000            118.000000     0.994890   \n",
              "75%       0.065000            41.000000            156.000000     0.996990   \n",
              "max       0.611000           289.000000            440.000000     1.038980   \n",
              "\n",
              "                pH    sulphates      alcohol      quality        label  \n",
              "count  6497.000000  6497.000000  6497.000000  6497.000000  6497.000000  \n",
              "mean      3.218501     0.531268    10.491801     5.818378     0.246114  \n",
              "std       0.160787     0.148806     1.192712     0.873255     0.430779  \n",
              "min       2.720000     0.220000     8.000000     3.000000     0.000000  \n",
              "25%       3.110000     0.430000     9.500000     5.000000     0.000000  \n",
              "50%       3.210000     0.510000    10.300000     6.000000     0.000000  \n",
              "75%       3.320000     0.600000    11.300000     6.000000     0.000000  \n",
              "max       4.010000     2.000000    14.900000     9.000000     1.000000  "
            ],
            "text/html": [
              "\n",
              "  <div id=\"df-512249d8-a90e-4a6f-9bee-2d1725abc71d\" class=\"colab-df-container\">\n",
              "    <div>\n",
              "<style scoped>\n",
              "    .dataframe tbody tr th:only-of-type {\n",
              "        vertical-align: middle;\n",
              "    }\n",
              "\n",
              "    .dataframe tbody tr th {\n",
              "        vertical-align: top;\n",
              "    }\n",
              "\n",
              "    .dataframe thead th {\n",
              "        text-align: right;\n",
              "    }\n",
              "</style>\n",
              "<table border=\"1\" class=\"dataframe\">\n",
              "  <thead>\n",
              "    <tr style=\"text-align: right;\">\n",
              "      <th></th>\n",
              "      <th>fixed acidity</th>\n",
              "      <th>volatile acidity</th>\n",
              "      <th>citric acid</th>\n",
              "      <th>residual sugar</th>\n",
              "      <th>chlorides</th>\n",
              "      <th>free sulfur dioxide</th>\n",
              "      <th>total sulfur dioxide</th>\n",
              "      <th>density</th>\n",
              "      <th>pH</th>\n",
              "      <th>sulphates</th>\n",
              "      <th>alcohol</th>\n",
              "      <th>quality</th>\n",
              "      <th>label</th>\n",
              "    </tr>\n",
              "  </thead>\n",
              "  <tbody>\n",
              "    <tr>\n",
              "      <th>count</th>\n",
              "      <td>6497.000000</td>\n",
              "      <td>6497.000000</td>\n",
              "      <td>6497.000000</td>\n",
              "      <td>6497.000000</td>\n",
              "      <td>6497.000000</td>\n",
              "      <td>6497.000000</td>\n",
              "      <td>6497.000000</td>\n",
              "      <td>6497.000000</td>\n",
              "      <td>6497.000000</td>\n",
              "      <td>6497.000000</td>\n",
              "      <td>6497.000000</td>\n",
              "      <td>6497.000000</td>\n",
              "      <td>6497.000000</td>\n",
              "    </tr>\n",
              "    <tr>\n",
              "      <th>mean</th>\n",
              "      <td>7.215307</td>\n",
              "      <td>0.339666</td>\n",
              "      <td>0.318633</td>\n",
              "      <td>5.443235</td>\n",
              "      <td>0.056034</td>\n",
              "      <td>30.525319</td>\n",
              "      <td>115.744574</td>\n",
              "      <td>0.994697</td>\n",
              "      <td>3.218501</td>\n",
              "      <td>0.531268</td>\n",
              "      <td>10.491801</td>\n",
              "      <td>5.818378</td>\n",
              "      <td>0.246114</td>\n",
              "    </tr>\n",
              "    <tr>\n",
              "      <th>std</th>\n",
              "      <td>1.296434</td>\n",
              "      <td>0.164636</td>\n",
              "      <td>0.145318</td>\n",
              "      <td>4.757804</td>\n",
              "      <td>0.035034</td>\n",
              "      <td>17.749400</td>\n",
              "      <td>56.521855</td>\n",
              "      <td>0.002999</td>\n",
              "      <td>0.160787</td>\n",
              "      <td>0.148806</td>\n",
              "      <td>1.192712</td>\n",
              "      <td>0.873255</td>\n",
              "      <td>0.430779</td>\n",
              "    </tr>\n",
              "    <tr>\n",
              "      <th>min</th>\n",
              "      <td>3.800000</td>\n",
              "      <td>0.080000</td>\n",
              "      <td>0.000000</td>\n",
              "      <td>0.600000</td>\n",
              "      <td>0.009000</td>\n",
              "      <td>1.000000</td>\n",
              "      <td>6.000000</td>\n",
              "      <td>0.987110</td>\n",
              "      <td>2.720000</td>\n",
              "      <td>0.220000</td>\n",
              "      <td>8.000000</td>\n",
              "      <td>3.000000</td>\n",
              "      <td>0.000000</td>\n",
              "    </tr>\n",
              "    <tr>\n",
              "      <th>25%</th>\n",
              "      <td>6.400000</td>\n",
              "      <td>0.230000</td>\n",
              "      <td>0.250000</td>\n",
              "      <td>1.800000</td>\n",
              "      <td>0.038000</td>\n",
              "      <td>17.000000</td>\n",
              "      <td>77.000000</td>\n",
              "      <td>0.992340</td>\n",
              "      <td>3.110000</td>\n",
              "      <td>0.430000</td>\n",
              "      <td>9.500000</td>\n",
              "      <td>5.000000</td>\n",
              "      <td>0.000000</td>\n",
              "    </tr>\n",
              "    <tr>\n",
              "      <th>50%</th>\n",
              "      <td>7.000000</td>\n",
              "      <td>0.290000</td>\n",
              "      <td>0.310000</td>\n",
              "      <td>3.000000</td>\n",
              "      <td>0.047000</td>\n",
              "      <td>29.000000</td>\n",
              "      <td>118.000000</td>\n",
              "      <td>0.994890</td>\n",
              "      <td>3.210000</td>\n",
              "      <td>0.510000</td>\n",
              "      <td>10.300000</td>\n",
              "      <td>6.000000</td>\n",
              "      <td>0.000000</td>\n",
              "    </tr>\n",
              "    <tr>\n",
              "      <th>75%</th>\n",
              "      <td>7.700000</td>\n",
              "      <td>0.400000</td>\n",
              "      <td>0.390000</td>\n",
              "      <td>8.100000</td>\n",
              "      <td>0.065000</td>\n",
              "      <td>41.000000</td>\n",
              "      <td>156.000000</td>\n",
              "      <td>0.996990</td>\n",
              "      <td>3.320000</td>\n",
              "      <td>0.600000</td>\n",
              "      <td>11.300000</td>\n",
              "      <td>6.000000</td>\n",
              "      <td>0.000000</td>\n",
              "    </tr>\n",
              "    <tr>\n",
              "      <th>max</th>\n",
              "      <td>15.900000</td>\n",
              "      <td>1.580000</td>\n",
              "      <td>1.660000</td>\n",
              "      <td>65.800000</td>\n",
              "      <td>0.611000</td>\n",
              "      <td>289.000000</td>\n",
              "      <td>440.000000</td>\n",
              "      <td>1.038980</td>\n",
              "      <td>4.010000</td>\n",
              "      <td>2.000000</td>\n",
              "      <td>14.900000</td>\n",
              "      <td>9.000000</td>\n",
              "      <td>1.000000</td>\n",
              "    </tr>\n",
              "  </tbody>\n",
              "</table>\n",
              "</div>\n",
              "    <div class=\"colab-df-buttons\">\n",
              "\n",
              "  <div class=\"colab-df-container\">\n",
              "    <button class=\"colab-df-convert\" onclick=\"convertToInteractive('df-512249d8-a90e-4a6f-9bee-2d1725abc71d')\"\n",
              "            title=\"Convert this dataframe to an interactive table.\"\n",
              "            style=\"display:none;\">\n",
              "\n",
              "  <svg xmlns=\"http://www.w3.org/2000/svg\" height=\"24px\" viewBox=\"0 -960 960 960\">\n",
              "    <path d=\"M120-120v-720h720v720H120Zm60-500h600v-160H180v160Zm220 220h160v-160H400v160Zm0 220h160v-160H400v160ZM180-400h160v-160H180v160Zm440 0h160v-160H620v160ZM180-180h160v-160H180v160Zm440 0h160v-160H620v160Z\"/>\n",
              "  </svg>\n",
              "    </button>\n",
              "\n",
              "  <style>\n",
              "    .colab-df-container {\n",
              "      display:flex;\n",
              "      gap: 12px;\n",
              "    }\n",
              "\n",
              "    .colab-df-convert {\n",
              "      background-color: #E8F0FE;\n",
              "      border: none;\n",
              "      border-radius: 50%;\n",
              "      cursor: pointer;\n",
              "      display: none;\n",
              "      fill: #1967D2;\n",
              "      height: 32px;\n",
              "      padding: 0 0 0 0;\n",
              "      width: 32px;\n",
              "    }\n",
              "\n",
              "    .colab-df-convert:hover {\n",
              "      background-color: #E2EBFA;\n",
              "      box-shadow: 0px 1px 2px rgba(60, 64, 67, 0.3), 0px 1px 3px 1px rgba(60, 64, 67, 0.15);\n",
              "      fill: #174EA6;\n",
              "    }\n",
              "\n",
              "    .colab-df-buttons div {\n",
              "      margin-bottom: 4px;\n",
              "    }\n",
              "\n",
              "    [theme=dark] .colab-df-convert {\n",
              "      background-color: #3B4455;\n",
              "      fill: #D2E3FC;\n",
              "    }\n",
              "\n",
              "    [theme=dark] .colab-df-convert:hover {\n",
              "      background-color: #434B5C;\n",
              "      box-shadow: 0px 1px 3px 1px rgba(0, 0, 0, 0.15);\n",
              "      filter: drop-shadow(0px 1px 2px rgba(0, 0, 0, 0.3));\n",
              "      fill: #FFFFFF;\n",
              "    }\n",
              "  </style>\n",
              "\n",
              "    <script>\n",
              "      const buttonEl =\n",
              "        document.querySelector('#df-512249d8-a90e-4a6f-9bee-2d1725abc71d button.colab-df-convert');\n",
              "      buttonEl.style.display =\n",
              "        google.colab.kernel.accessAllowed ? 'block' : 'none';\n",
              "\n",
              "      async function convertToInteractive(key) {\n",
              "        const element = document.querySelector('#df-512249d8-a90e-4a6f-9bee-2d1725abc71d');\n",
              "        const dataTable =\n",
              "          await google.colab.kernel.invokeFunction('convertToInteractive',\n",
              "                                                    [key], {});\n",
              "        if (!dataTable) return;\n",
              "\n",
              "        const docLinkHtml = 'Like what you see? Visit the ' +\n",
              "          '<a target=\"_blank\" href=https://colab.research.google.com/notebooks/data_table.ipynb>data table notebook</a>'\n",
              "          + ' to learn more about interactive tables.';\n",
              "        element.innerHTML = '';\n",
              "        dataTable['output_type'] = 'display_data';\n",
              "        await google.colab.output.renderOutput(dataTable, element);\n",
              "        const docLink = document.createElement('div');\n",
              "        docLink.innerHTML = docLinkHtml;\n",
              "        element.appendChild(docLink);\n",
              "      }\n",
              "    </script>\n",
              "  </div>\n",
              "\n",
              "\n",
              "<div id=\"df-dd094e19-d07d-48d8-bc6b-a7262a9b69a8\">\n",
              "  <button class=\"colab-df-quickchart\" onclick=\"quickchart('df-dd094e19-d07d-48d8-bc6b-a7262a9b69a8')\"\n",
              "            title=\"Suggest charts\"\n",
              "            style=\"display:none;\">\n",
              "\n",
              "<svg xmlns=\"http://www.w3.org/2000/svg\" height=\"24px\"viewBox=\"0 0 24 24\"\n",
              "     width=\"24px\">\n",
              "    <g>\n",
              "        <path d=\"M19 3H5c-1.1 0-2 .9-2 2v14c0 1.1.9 2 2 2h14c1.1 0 2-.9 2-2V5c0-1.1-.9-2-2-2zM9 17H7v-7h2v7zm4 0h-2V7h2v10zm4 0h-2v-4h2v4z\"/>\n",
              "    </g>\n",
              "</svg>\n",
              "  </button>\n",
              "\n",
              "<style>\n",
              "  .colab-df-quickchart {\n",
              "      --bg-color: #E8F0FE;\n",
              "      --fill-color: #1967D2;\n",
              "      --hover-bg-color: #E2EBFA;\n",
              "      --hover-fill-color: #174EA6;\n",
              "      --disabled-fill-color: #AAA;\n",
              "      --disabled-bg-color: #DDD;\n",
              "  }\n",
              "\n",
              "  [theme=dark] .colab-df-quickchart {\n",
              "      --bg-color: #3B4455;\n",
              "      --fill-color: #D2E3FC;\n",
              "      --hover-bg-color: #434B5C;\n",
              "      --hover-fill-color: #FFFFFF;\n",
              "      --disabled-bg-color: #3B4455;\n",
              "      --disabled-fill-color: #666;\n",
              "  }\n",
              "\n",
              "  .colab-df-quickchart {\n",
              "    background-color: var(--bg-color);\n",
              "    border: none;\n",
              "    border-radius: 50%;\n",
              "    cursor: pointer;\n",
              "    display: none;\n",
              "    fill: var(--fill-color);\n",
              "    height: 32px;\n",
              "    padding: 0;\n",
              "    width: 32px;\n",
              "  }\n",
              "\n",
              "  .colab-df-quickchart:hover {\n",
              "    background-color: var(--hover-bg-color);\n",
              "    box-shadow: 0 1px 2px rgba(60, 64, 67, 0.3), 0 1px 3px 1px rgba(60, 64, 67, 0.15);\n",
              "    fill: var(--button-hover-fill-color);\n",
              "  }\n",
              "\n",
              "  .colab-df-quickchart-complete:disabled,\n",
              "  .colab-df-quickchart-complete:disabled:hover {\n",
              "    background-color: var(--disabled-bg-color);\n",
              "    fill: var(--disabled-fill-color);\n",
              "    box-shadow: none;\n",
              "  }\n",
              "\n",
              "  .colab-df-spinner {\n",
              "    border: 2px solid var(--fill-color);\n",
              "    border-color: transparent;\n",
              "    border-bottom-color: var(--fill-color);\n",
              "    animation:\n",
              "      spin 1s steps(1) infinite;\n",
              "  }\n",
              "\n",
              "  @keyframes spin {\n",
              "    0% {\n",
              "      border-color: transparent;\n",
              "      border-bottom-color: var(--fill-color);\n",
              "      border-left-color: var(--fill-color);\n",
              "    }\n",
              "    20% {\n",
              "      border-color: transparent;\n",
              "      border-left-color: var(--fill-color);\n",
              "      border-top-color: var(--fill-color);\n",
              "    }\n",
              "    30% {\n",
              "      border-color: transparent;\n",
              "      border-left-color: var(--fill-color);\n",
              "      border-top-color: var(--fill-color);\n",
              "      border-right-color: var(--fill-color);\n",
              "    }\n",
              "    40% {\n",
              "      border-color: transparent;\n",
              "      border-right-color: var(--fill-color);\n",
              "      border-top-color: var(--fill-color);\n",
              "    }\n",
              "    60% {\n",
              "      border-color: transparent;\n",
              "      border-right-color: var(--fill-color);\n",
              "    }\n",
              "    80% {\n",
              "      border-color: transparent;\n",
              "      border-right-color: var(--fill-color);\n",
              "      border-bottom-color: var(--fill-color);\n",
              "    }\n",
              "    90% {\n",
              "      border-color: transparent;\n",
              "      border-bottom-color: var(--fill-color);\n",
              "    }\n",
              "  }\n",
              "</style>\n",
              "\n",
              "  <script>\n",
              "    async function quickchart(key) {\n",
              "      const quickchartButtonEl =\n",
              "        document.querySelector('#' + key + ' button');\n",
              "      quickchartButtonEl.disabled = true;  // To prevent multiple clicks.\n",
              "      quickchartButtonEl.classList.add('colab-df-spinner');\n",
              "      try {\n",
              "        const charts = await google.colab.kernel.invokeFunction(\n",
              "            'suggestCharts', [key], {});\n",
              "      } catch (error) {\n",
              "        console.error('Error during call to suggestCharts:', error);\n",
              "      }\n",
              "      quickchartButtonEl.classList.remove('colab-df-spinner');\n",
              "      quickchartButtonEl.classList.add('colab-df-quickchart-complete');\n",
              "    }\n",
              "    (() => {\n",
              "      let quickchartButtonEl =\n",
              "        document.querySelector('#df-dd094e19-d07d-48d8-bc6b-a7262a9b69a8 button');\n",
              "      quickchartButtonEl.style.display =\n",
              "        google.colab.kernel.accessAllowed ? 'block' : 'none';\n",
              "    })();\n",
              "  </script>\n",
              "</div>\n",
              "    </div>\n",
              "  </div>\n"
            ],
            "application/vnd.google.colaboratory.intrinsic+json": {
              "type": "dataframe",
              "summary": "{\n  \"name\": \"wines\",\n  \"rows\": 8,\n  \"fields\": [\n    {\n      \"column\": \"fixed acidity\",\n      \"properties\": {\n        \"dtype\": \"number\",\n        \"std\": 2294.5495843533386,\n        \"min\": 1.2964337577998153,\n        \"max\": 6497.0,\n        \"num_unique_values\": 8,\n        \"samples\": [\n          7.215307064799139,\n          7.0,\n          6497.0\n        ],\n        \"semantic_type\": \"\",\n        \"description\": \"\"\n      }\n    },\n    {\n      \"column\": \"volatile acidity\",\n      \"properties\": {\n        \"dtype\": \"number\",\n        \"std\": 2296.8806471221515,\n        \"min\": 0.08,\n        \"max\": 6497.0,\n        \"num_unique_values\": 8,\n        \"samples\": [\n          0.3396659996921656,\n          0.29,\n          6497.0\n        ],\n        \"semantic_type\": \"\",\n        \"description\": \"\"\n      }\n    },\n    {\n      \"column\": \"citric acid\",\n      \"properties\": {\n        \"dtype\": \"number\",\n        \"std\": 2296.88117790051,\n        \"min\": 0.0,\n        \"max\": 6497.0,\n        \"num_unique_values\": 8,\n        \"samples\": [\n          0.3186332153301524,\n          0.31,\n          6497.0\n        ],\n        \"semantic_type\": \"\",\n        \"description\": \"\"\n      }\n    },\n    {\n      \"column\": \"residual sugar\",\n      \"properties\": {\n        \"dtype\": \"number\",\n        \"std\": 2292.6192015521087,\n        \"min\": 0.6,\n        \"max\": 6497.0,\n        \"num_unique_values\": 8,\n        \"samples\": [\n          5.443235339387409,\n          3.0,\n          6497.0\n        ],\n        \"semantic_type\": \"\",\n        \"description\": \"\"\n      }\n    },\n    {\n      \"column\": \"chlorides\",\n      \"properties\": {\n        \"dtype\": \"number\",\n        \"std\": 2296.9928969086163,\n        \"min\": 0.009,\n        \"max\": 6497.0,\n        \"num_unique_values\": 8,\n        \"samples\": [\n          0.05603386178236109,\n          0.047,\n          6497.0\n        ],\n        \"semantic_type\": \"\",\n        \"description\": \"\"\n      }\n    },\n    {\n      \"column\": \"free sulfur dioxide\",\n      \"properties\": {\n        \"dtype\": \"number\",\n        \"std\": 2277.4940152153513,\n        \"min\": 1.0,\n        \"max\": 6497.0,\n        \"num_unique_values\": 8,\n        \"samples\": [\n          30.525319378174544,\n          29.0,\n          6497.0\n        ],\n        \"semantic_type\": \"\",\n        \"description\": \"\"\n      }\n    },\n    {\n      \"column\": \"total sulfur dioxide\",\n      \"properties\": {\n        \"dtype\": \"number\",\n        \"std\": 2251.897096356555,\n        \"min\": 6.0,\n        \"max\": 6497.0,\n        \"num_unique_values\": 8,\n        \"samples\": [\n          115.7445744189626,\n          118.0,\n          6497.0\n        ],\n        \"semantic_type\": \"\",\n        \"description\": \"\"\n      }\n    },\n    {\n      \"column\": \"density\",\n      \"properties\": {\n        \"dtype\": \"number\",\n        \"std\": 2296.732955190115,\n        \"min\": 0.0029986730037190393,\n        \"max\": 6497.0,\n        \"num_unique_values\": 8,\n        \"samples\": [\n          0.9946966338309989,\n          0.99489,\n          6497.0\n        ],\n        \"semantic_type\": \"\",\n        \"description\": \"\"\n      }\n    },\n    {\n      \"column\": \"pH\",\n      \"properties\": {\n        \"dtype\": \"number\",\n        \"std\": 2296.039173424216,\n        \"min\": 0.16078720210398764,\n        \"max\": 6497.0,\n        \"num_unique_values\": 8,\n        \"samples\": [\n          3.2185008465445586,\n          3.21,\n          6497.0\n        ],\n        \"semantic_type\": \"\",\n        \"description\": \"\"\n      }\n    },\n    {\n      \"column\": \"sulphates\",\n      \"properties\": {\n        \"dtype\": \"number\",\n        \"std\": 2296.812193891682,\n        \"min\": 0.14880587361449027,\n        \"max\": 6497.0,\n        \"num_unique_values\": 8,\n        \"samples\": [\n          0.5312682776666154,\n          0.51,\n          6497.0\n        ],\n        \"semantic_type\": \"\",\n        \"description\": \"\"\n      }\n    },\n    {\n      \"column\": \"alcohol\",\n      \"properties\": {\n        \"dtype\": \"number\",\n        \"std\": 2293.7220855129385,\n        \"min\": 1.192711748870993,\n        \"max\": 6497.0,\n        \"num_unique_values\": 8,\n        \"samples\": [\n          10.491800831152839,\n          10.3,\n          6497.0\n        ],\n        \"semantic_type\": \"\",\n        \"description\": \"\"\n      }\n    },\n    {\n      \"column\": \"quality\",\n      \"properties\": {\n        \"dtype\": \"number\",\n        \"std\": 2295.234912335805,\n        \"min\": 0.8732552715311248,\n        \"max\": 6497.0,\n        \"num_unique_values\": 7,\n        \"samples\": [\n          6497.0,\n          5.818377712790519,\n          6.0\n        ],\n        \"semantic_type\": \"\",\n        \"description\": \"\"\n      }\n    },\n    {\n      \"column\": \"label\",\n      \"properties\": {\n        \"dtype\": \"number\",\n        \"std\": 2296.9517090952163,\n        \"min\": 0.0,\n        \"max\": 6497.0,\n        \"num_unique_values\": 5,\n        \"samples\": [\n          0.2461135908881022,\n          1.0,\n          0.43077865977870766\n        ],\n        \"semantic_type\": \"\",\n        \"description\": \"\"\n      }\n    }\n  ]\n}"
            }
          },
          "metadata": {},
          "execution_count": 45
        }
      ]
    },
    {
      "cell_type": "code",
      "source": [
        "wines.hist()"
      ],
      "metadata": {
        "colab": {
          "base_uri": "https://localhost:8080/",
          "height": 695
        },
        "id": "2H4DNqWjvfre",
        "outputId": "d9baebc0-9703-46a2-c064-849fcc16b76e"
      },
      "execution_count": null,
      "outputs": [
        {
          "output_type": "execute_result",
          "data": {
            "text/plain": [
              "array([[<Axes: title={'center': 'fixed acidity'}>,\n",
              "        <Axes: title={'center': 'volatile acidity'}>,\n",
              "        <Axes: title={'center': 'citric acid'}>,\n",
              "        <Axes: title={'center': 'residual sugar'}>],\n",
              "       [<Axes: title={'center': 'chlorides'}>,\n",
              "        <Axes: title={'center': 'free sulfur dioxide'}>,\n",
              "        <Axes: title={'center': 'total sulfur dioxide'}>,\n",
              "        <Axes: title={'center': 'density'}>],\n",
              "       [<Axes: title={'center': 'pH'}>,\n",
              "        <Axes: title={'center': 'sulphates'}>,\n",
              "        <Axes: title={'center': 'alcohol'}>,\n",
              "        <Axes: title={'center': 'quality'}>],\n",
              "       [<Axes: title={'center': 'label'}>, <Axes: >, <Axes: >, <Axes: >]],\n",
              "      dtype=object)"
            ]
          },
          "metadata": {},
          "execution_count": 46
        },
        {
          "output_type": "display_data",
          "data": {
            "text/plain": [
              "<Figure size 640x480 with 16 Axes>"
            ],
            "image/png": "[encoded data removed]"
          },
          "metadata": {}
        }
      ]
    },
    {
      "cell_type": "markdown",
      "source": [
        "c) Iz wines izdvojiti X - karakteristike i y - labele. Zatim korištenjem funkcije train_test_split podijeliti\n",
        "podatke na one za treniranje i one za testiranje pri čemu 20% podataka trebaju biti podaci za testiranje;"
      ],
      "metadata": {
        "id": "PTxTxj4c0oHx"
      }
    },
    {
      "cell_type": "code",
      "source": [
        "from sklearn.model_selection import train_test_split\n",
        "\n",
        "y = wines['label']\n",
        "X = wines.drop('label', axis=1)\n",
        "\n",
        "\n",
        "X_train, X_test, y_train, y_test = train_test_split(X, y, test_size = 0.2)"
      ],
      "metadata": {
        "id": "x2HBUokSwyx_"
      },
      "execution_count": null,
      "outputs": []
    },
    {
      "cell_type": "markdown",
      "source": [
        "d) Formirati sekvencijalni Keras model koji će imati 2 Dense sloja sa po 8 neurona i relu aktivacijskom\n",
        "funkcijom. Prvom sloju kao input_shape parametar proslijediti vrijednost (12,) s obzirom na to da skup\n",
        "podataka ima 12 značajki. Treći sloj, koji je u ovom slučaju izlazni sloj, postaviti da također bude Dense, ali sa samo jednim neuronom;"
      ],
      "metadata": {
        "id": "4TEq73Fd0rxI"
      }
    },
    {
      "cell_type": "code",
      "source": [
        "from keras import models\n",
        "from keras import layers\n",
        "\n",
        "model = models.Sequential()\n",
        "model.add(layers.Dense(8, activation='relu', input_shape=(12,)))\n",
        "model.add(layers.Dense(8, activation='relu'))\n",
        "model.add(layers.Dense(1, activation='sigmoid'))"
      ],
      "metadata": {
        "id": "UB3-xvOszAvJ"
      },
      "execution_count": null,
      "outputs": []
    },
    {
      "cell_type": "markdown",
      "source": [
        "e) Kompajlirati model tako da koristi adam optimizator, za funkciju gubitka koristiti binary_crossentropy,\n",
        "a kao metriku odabrati accuracy;"
      ],
      "metadata": {
        "id": "Fx_XdRVG0u5k"
      }
    },
    {
      "cell_type": "code",
      "source": [
        "model.compile(optimizer='adam',loss='binary_crossentropy',metrics=['accuracy'])"
      ],
      "metadata": {
        "id": "eOfo9A87zidH"
      },
      "execution_count": null,
      "outputs": []
    },
    {
      "cell_type": "markdown",
      "source": [
        "f) Model istrenirati na 20 epoha, sa veličinom batch-a 16. Kolika je postignuta tačnost, a kolika vrijednost funkcije gubitka na kraju treniranja?"
      ],
      "metadata": {
        "id": "YzD4fWSk0xZG"
      }
    },
    {
      "cell_type": "code",
      "source": [
        "model.fit(X_train, y_train, epochs=20, batch_size=16)"
      ],
      "metadata": {
        "colab": {
          "base_uri": "https://localhost:8080/"
        },
        "id": "UrZxh5890F3Z",
        "outputId": "4a8c4753-9d51-40e8-f35b-89c4455c9d32"
      },
      "execution_count": null,
      "outputs": [
        {
          "output_type": "stream",
          "name": "stdout",
          "text": [
            "Epoch 1/20\n",
            "325/325 [==============================] - 2s 2ms/step - loss: 6.4990 - accuracy: 0.5571\n",
            "Epoch 2/20\n",
            "325/325 [==============================] - 1s 2ms/step - loss: 0.2149 - accuracy: 0.9269\n",
            "Epoch 3/20\n",
            "325/325 [==============================] - 1s 2ms/step - loss: 0.2013 - accuracy: 0.9317\n",
            "Epoch 4/20\n",
            "325/325 [==============================] - 1s 2ms/step - loss: 0.1904 - accuracy: 0.9330\n",
            "Epoch 5/20\n",
            "325/325 [==============================] - 1s 2ms/step - loss: 0.1839 - accuracy: 0.9340\n",
            "Epoch 6/20\n",
            "325/325 [==============================] - 1s 2ms/step - loss: 0.1767 - accuracy: 0.9350\n",
            "Epoch 7/20\n",
            "325/325 [==============================] - 1s 2ms/step - loss: 0.1691 - accuracy: 0.9363\n",
            "Epoch 8/20\n",
            "325/325 [==============================] - 1s 2ms/step - loss: 0.1636 - accuracy: 0.9375\n",
            "Epoch 9/20\n",
            "325/325 [==============================] - 1s 2ms/step - loss: 0.1582 - accuracy: 0.9396\n",
            "Epoch 10/20\n",
            "325/325 [==============================] - 1s 2ms/step - loss: 0.1520 - accuracy: 0.9438\n",
            "Epoch 11/20\n",
            "325/325 [==============================] - 1s 2ms/step - loss: 0.1466 - accuracy: 0.9465\n",
            "Epoch 12/20\n",
            "325/325 [==============================] - 1s 2ms/step - loss: 0.1404 - accuracy: 0.9469\n",
            "Epoch 13/20\n",
            "325/325 [==============================] - 1s 2ms/step - loss: 0.1332 - accuracy: 0.9515\n",
            "Epoch 14/20\n",
            "325/325 [==============================] - 1s 2ms/step - loss: 0.1277 - accuracy: 0.9511\n",
            "Epoch 15/20\n",
            "325/325 [==============================] - 1s 2ms/step - loss: 0.1219 - accuracy: 0.9532\n",
            "Epoch 16/20\n",
            "325/325 [==============================] - 1s 3ms/step - loss: 0.1177 - accuracy: 0.9556\n",
            "Epoch 17/20\n",
            "325/325 [==============================] - 1s 3ms/step - loss: 0.1122 - accuracy: 0.9590\n",
            "Epoch 18/20\n",
            "325/325 [==============================] - 1s 2ms/step - loss: 0.1069 - accuracy: 0.9609\n",
            "Epoch 19/20\n",
            "325/325 [==============================] - 1s 2ms/step - loss: 0.1027 - accuracy: 0.9611\n",
            "Epoch 20/20\n",
            "325/325 [==============================] - 1s 2ms/step - loss: 0.1017 - accuracy: 0.9632\n"
          ]
        },
        {
          "output_type": "execute_result",
          "data": {
            "text/plain": [
              "<keras.src.callbacks.History at 0x7eede7521d50>"
            ]
          },
          "metadata": {},
          "execution_count": 50
        }
      ]
    },
    {
      "cell_type": "markdown",
      "source": [
        "g) Ponoviti postupak1, no ovaj put prije treniranja izvršiti standardizaciju, odnosno skaliranje atributa korištenjem StandardScaler objekat iz sklearn.preprocessing modula. Kolika je sada tačnost nakon treniranja? Uporediti rezultate sa onim bez skaliranja;"
      ],
      "metadata": {
        "id": "yYBMc5Ti00Z6"
      }
    },
    {
      "cell_type": "code",
      "source": [
        "from sklearn.preprocessing import StandardScaler\n",
        "\n",
        "scaler = StandardScaler().fit(X_train)\n",
        "X_train = scaler.transform(X_train)\n",
        "X_test = scaler.transform(X_test)\n",
        "\n",
        "model = models.Sequential()\n",
        "model.add(layers.Dense(8, activation='relu', input_shape=(12,)))\n",
        "model.add(layers.Dense(8, activation='relu'))\n",
        "model.add(layers.Dense(1, activation='sigmoid'))\n",
        "\n",
        "model.compile(optimizer='adam',loss='binary_crossentropy',metrics=['accuracy'])\n",
        "\n",
        "model.fit(X_train, y_train, epochs=20, batch_size=16)"
      ],
      "metadata": {
        "colab": {
          "base_uri": "https://localhost:8080/"
        },
        "id": "wsw0Ymgv1Nep",
        "outputId": "707508a9-6f10-4769-e87d-82d421d6639f"
      },
      "execution_count": null,
      "outputs": [
        {
          "output_type": "stream",
          "name": "stdout",
          "text": [
            "Epoch 1/20\n",
            "325/325 [==============================] - 2s 3ms/step - loss: 0.3453 - accuracy: 0.9036\n",
            "Epoch 2/20\n",
            "325/325 [==============================] - 1s 2ms/step - loss: 0.0687 - accuracy: 0.9844\n",
            "Epoch 3/20\n",
            "325/325 [==============================] - 1s 2ms/step - loss: 0.0466 - accuracy: 0.9886\n",
            "Epoch 4/20\n",
            "325/325 [==============================] - 1s 2ms/step - loss: 0.0399 - accuracy: 0.9910\n",
            "Epoch 5/20\n",
            "325/325 [==============================] - 1s 2ms/step - loss: 0.0364 - accuracy: 0.9921\n",
            "Epoch 6/20\n",
            "325/325 [==============================] - 1s 2ms/step - loss: 0.0338 - accuracy: 0.9925\n",
            "Epoch 7/20\n",
            "325/325 [==============================] - 1s 2ms/step - loss: 0.0317 - accuracy: 0.9933\n",
            "Epoch 8/20\n",
            "325/325 [==============================] - 1s 2ms/step - loss: 0.0300 - accuracy: 0.9938\n",
            "Epoch 9/20\n",
            "325/325 [==============================] - 1s 2ms/step - loss: 0.0289 - accuracy: 0.9940\n",
            "Epoch 10/20\n",
            "325/325 [==============================] - 1s 2ms/step - loss: 0.0277 - accuracy: 0.9938\n",
            "Epoch 11/20\n",
            "325/325 [==============================] - 1s 2ms/step - loss: 0.0270 - accuracy: 0.9940\n",
            "Epoch 12/20\n",
            "325/325 [==============================] - 1s 2ms/step - loss: 0.0261 - accuracy: 0.9952\n",
            "Epoch 13/20\n",
            "325/325 [==============================] - 1s 2ms/step - loss: 0.0253 - accuracy: 0.9952\n",
            "Epoch 14/20\n",
            "325/325 [==============================] - 1s 2ms/step - loss: 0.0250 - accuracy: 0.9954\n",
            "Epoch 15/20\n",
            "325/325 [==============================] - 1s 2ms/step - loss: 0.0243 - accuracy: 0.9950\n",
            "Epoch 16/20\n",
            "325/325 [==============================] - 1s 2ms/step - loss: 0.0238 - accuracy: 0.9952\n",
            "Epoch 17/20\n",
            "325/325 [==============================] - 1s 2ms/step - loss: 0.0232 - accuracy: 0.9954\n",
            "Epoch 18/20\n",
            "325/325 [==============================] - 1s 3ms/step - loss: 0.0227 - accuracy: 0.9954\n",
            "Epoch 19/20\n",
            "325/325 [==============================] - 1s 3ms/step - loss: 0.0220 - accuracy: 0.9956\n",
            "Epoch 20/20\n",
            "325/325 [==============================] - 1s 3ms/step - loss: 0.0217 - accuracy: 0.9956\n"
          ]
        },
        {
          "output_type": "execute_result",
          "data": {
            "text/plain": [
              "<keras.src.callbacks.History at 0x7eede912f490>"
            ]
          },
          "metadata": {},
          "execution_count": 52
        }
      ]
    },
    {
      "cell_type": "markdown",
      "source": [
        "h) Model evaluirati nad testnim skupom podataka.Kolika je postignuta tačnost modela?"
      ],
      "metadata": {
        "id": "YtJ59lQF05BW"
      }
    },
    {
      "cell_type": "code",
      "source": [
        "results = model.evaluate(X_test, y_test)"
      ],
      "metadata": {
        "colab": {
          "base_uri": "https://localhost:8080/"
        },
        "id": "n9BFXlhj2RPI",
        "outputId": "a7311ed5-a04d-4c35-9444-e9d77f476574"
      },
      "execution_count": null,
      "outputs": [
        {
          "output_type": "stream",
          "name": "stdout",
          "text": [
            "41/41 [==============================] - 1s 8ms/step - loss: 0.0120 - accuracy: 0.9985\n"
          ]
        }
      ]
    }
  ]
}